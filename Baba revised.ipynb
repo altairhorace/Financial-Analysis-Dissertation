{
 "cells": [
  {
   "cell_type": "code",
   "execution_count": 1,
   "metadata": {},
   "outputs": [],
   "source": [
    "def ln_return(price):\n",
    "    price['PX_LAST+1']= pd.Series(price.PX_LAST.shift(+1))\n",
    "    price_ln= np.log(price.PX_LAST) - np.log(price[\"PX_LAST+1\"])\n",
    "    price['ln_ret'] = pd.Series(price_ln)\n",
    "    price.drop(price.head(1).index,inplace=True)   \n",
    "    return"
   ]
  },
  {
   "cell_type": "code",
   "execution_count": 2,
   "metadata": {},
   "outputs": [],
   "source": [
    "def ols(stock, market):\n",
    "    global params\n",
    "    global mse\n",
    "    reg=pd.concat([stock[\"ln_ret\"],market[\"ln_ret\"]], axis=1)\n",
    "    reg.columns = ['Tencent', 'HSI']\n",
    "    print(reg)\n",
    "    results =smf.ols(\"Tencent ~ HSI\",data=reg).fit()\n",
    "    print (results.summary())\n",
    "    params=results.params\n",
    "    print(results.params)\n",
    "    mse =results.mse_resid\n",
    "    return"
   ]
  },
  {
   "cell_type": "code",
   "execution_count": 4,
   "metadata": {},
   "outputs": [
    {
     "name": "stdout",
     "output_type": "stream",
     "text": [
      "            PX_LAST  PX_LAST+1    ln_ret\n",
      "Date                                    \n",
      "2018-03-13   188.41     192.74 -0.022722\n",
      "2018-03-14   192.56     188.41  0.021787\n",
      "2018-03-15   199.06     192.56  0.033198\n",
      "2018-03-16   200.28     199.06  0.006110\n",
      "2018-03-19   194.53     200.28 -0.029130\n",
      "2018-03-20   198.95     194.53  0.022467\n",
      "2018-03-21   195.30     198.95 -0.018517\n",
      "2018-03-22   184.65     195.30 -0.056075\n",
      "2018-03-23   181.20     184.65 -0.018861\n",
      "2018-03-26   190.50     181.20  0.050051\n",
      "2018-03-27   181.89     190.50 -0.046250\n",
      "2018-03-28   178.91     181.89 -0.016519\n",
      "2018-03-29   183.54     178.91  0.025550\n",
      "2018-04-02   177.61     183.54 -0.032842\n",
      "2018-04-03   174.67     177.61 -0.016692\n",
      "2018-04-04   172.07     174.67 -0.014997\n",
      "2018-04-05   172.57     172.07  0.002902\n",
      "2018-04-06   167.52     172.57 -0.029700\n",
      "2018-04-09   169.87     167.52  0.013931\n",
      "2018-04-10   177.10     169.87  0.041681\n",
      "2018-04-11   175.36     177.10 -0.009874\n",
      "2018-04-12   175.92     175.36  0.003188\n",
      "2018-04-13   172.04     175.92 -0.022302\n",
      "2018-04-16   174.70     172.04  0.015343\n",
      "2018-04-17   178.70     174.70  0.022638\n",
      "2018-04-18   182.68     178.70  0.022028\n",
      "2018-04-19   181.39     182.68 -0.007087\n",
      "2018-04-20   179.11     181.39 -0.012649\n",
      "2018-04-23   175.57     179.11 -0.019962\n",
      "2018-04-24   173.09     175.57 -0.014226\n",
      "...             ...        ...       ...\n",
      "2018-05-31   198.01     197.98  0.000152\n",
      "2018-06-01   204.34     198.01  0.031468\n",
      "2018-06-04   208.95     204.34  0.022310\n",
      "2018-06-05   208.37     208.95 -0.002780\n",
      "2018-06-06   208.30     208.37 -0.000336\n",
      "2018-06-07   203.62     208.30 -0.022724\n",
      "2018-06-08   205.07     203.62  0.007096\n",
      "2018-06-11   205.70     205.07  0.003067\n",
      "2018-06-12   209.08     205.70  0.016298\n",
      "2018-06-13   206.62     209.08 -0.011836\n",
      "2018-06-14   210.86     206.62  0.020313\n",
      "2018-06-15   208.00     210.86 -0.013656\n",
      "2018-06-18   208.57     208.00  0.002737\n",
      "2018-06-19   204.43     208.57 -0.020049\n",
      "2018-06-20   206.23     204.43  0.008766\n",
      "2018-06-21   202.21     206.23 -0.019685\n",
      "2018-06-22   202.01     202.21 -0.000990\n",
      "2018-06-25   191.25     202.01 -0.054736\n",
      "2018-06-26   191.42     191.25  0.000888\n",
      "2018-06-27   185.02     191.42 -0.034006\n",
      "2018-06-28   188.38     185.02  0.017997\n",
      "2018-06-29   185.53     188.38 -0.015245\n",
      "2018-07-02   186.36     185.53  0.004464\n",
      "2018-07-03   184.75     186.36 -0.008677\n",
      "2018-07-05   186.88     184.75  0.011463\n",
      "2018-07-06   192.27     186.88  0.028434\n",
      "2018-07-09   192.75     192.27  0.002493\n",
      "2018-07-10   192.55     192.75 -0.001038\n",
      "2018-07-11   187.42     192.55 -0.027004\n",
      "2018-07-12   190.17     187.42  0.014566\n",
      "\n",
      "[85 rows x 3 columns]\n",
      "             PX_LAST  PX_LAST+1    ln_ret\n",
      "Date                                     \n",
      "2018-03-13  12831.75   12898.40 -0.005181\n",
      "2018-03-14  12762.67   12831.75 -0.005398\n",
      "2018-03-15  12743.61   12762.67 -0.001495\n",
      "2018-03-16  12784.39   12743.61  0.003195\n",
      "2018-03-19  12651.46   12784.39 -0.010452\n",
      "2018-03-20  12663.64   12651.46  0.000962\n",
      "2018-03-21  12683.76   12663.64  0.001588\n",
      "2018-03-22  12377.39   12683.76 -0.024451\n",
      "2018-03-23  12177.70   12377.39 -0.016265\n",
      "2018-03-26  12433.15   12177.70  0.020760\n",
      "2018-03-27  12302.54   12433.15 -0.010561\n",
      "2018-03-28  12308.90   12302.54  0.000517\n",
      "2018-03-29  12452.06   12308.90  0.011563\n",
      "2018-04-02  12216.71   12452.06 -0.019081\n",
      "2018-04-03  12367.07   12216.71  0.012233\n",
      "2018-04-04  12466.45   12367.07  0.008004\n",
      "2018-04-05  12571.94   12466.45  0.008426\n",
      "2018-04-06  12349.11   12571.94 -0.017883\n",
      "2018-04-09  12380.55   12349.11  0.002543\n",
      "2018-04-10  12565.97   12380.55  0.014866\n",
      "2018-04-11  12514.59   12565.97 -0.004097\n",
      "2018-04-12  12580.22   12514.59  0.005231\n",
      "2018-04-13  12546.05   12580.22 -0.002720\n",
      "2018-04-16  12628.21   12546.05  0.006527\n",
      "2018-04-17  12705.76   12628.21  0.006122\n",
      "2018-04-18  12732.85   12705.76  0.002130\n",
      "2018-04-19  12671.48   12732.85 -0.004831\n",
      "2018-04-20  12607.16   12671.48 -0.005089\n",
      "2018-04-23  12610.77   12607.16  0.000286\n",
      "2018-04-24  12514.00   12610.77 -0.007703\n",
      "...              ...        ...       ...\n",
      "2018-05-31  12527.14   12625.87 -0.007850\n",
      "2018-06-01  12620.83   12527.14  0.007451\n",
      "2018-06-04  12673.91   12620.83  0.004197\n",
      "2018-06-05  12658.70   12673.91 -0.001201\n",
      "2018-06-06  12778.23   12658.70  0.009398\n",
      "2018-06-07  12788.50   12778.23  0.000803\n",
      "2018-06-08  12832.07   12788.50  0.003401\n",
      "2018-06-11  12856.96   12832.07  0.001938\n",
      "2018-06-12  12844.71   12856.96 -0.000953\n",
      "2018-06-13  12785.45   12844.71 -0.004624\n",
      "2018-06-14  12771.95   12785.45 -0.001056\n",
      "2018-06-15  12734.64   12771.95 -0.002926\n",
      "2018-06-18  12708.63   12734.64 -0.002045\n",
      "2018-06-19  12638.98   12708.63 -0.005496\n",
      "2018-06-20  12648.74   12638.98  0.000772\n",
      "2018-06-21  12560.23   12648.74 -0.007022\n",
      "2018-06-22  12639.57   12560.23  0.006297\n",
      "2018-06-25  12481.60   12639.57 -0.012577\n",
      "2018-06-26  12510.55   12481.60  0.002317\n",
      "2018-06-27  12412.07   12510.55 -0.007903\n",
      "2018-06-28  12475.98   12412.07  0.005136\n",
      "2018-06-29  12504.25   12475.98  0.002263\n",
      "2018-07-02  12485.58   12504.25 -0.001494\n",
      "2018-07-03  12494.70   12485.58  0.000730\n",
      "2018-07-05  12585.21   12494.70  0.007218\n",
      "2018-07-06  12664.88   12585.21  0.006310\n",
      "2018-07-09  12776.92   12664.88  0.008808\n",
      "2018-07-10  12814.64   12776.92  0.002948\n",
      "2018-07-11  12681.59   12814.64 -0.010437\n",
      "2018-07-12  12761.46   12681.59  0.006278\n",
      "\n",
      "[85 rows x 3 columns]\n",
      "             Tencent       HSI\n",
      "Date                          \n",
      "2018-03-13 -0.022722 -0.005181\n",
      "2018-03-14  0.021787 -0.005398\n",
      "2018-03-15  0.033198 -0.001495\n",
      "2018-03-16  0.006110  0.003195\n",
      "2018-03-19 -0.029130 -0.010452\n",
      "2018-03-20  0.022467  0.000962\n",
      "2018-03-21 -0.018517  0.001588\n",
      "2018-03-22 -0.056075 -0.024451\n",
      "2018-03-23 -0.018861 -0.016265\n",
      "2018-03-26  0.050051  0.020760\n",
      "2018-03-27 -0.046250 -0.010561\n",
      "2018-03-28 -0.016519  0.000517\n",
      "2018-03-29  0.025550  0.011563\n",
      "2018-04-02 -0.032842 -0.019081\n",
      "2018-04-03 -0.016692  0.012233\n",
      "2018-04-04 -0.014997  0.008004\n",
      "2018-04-05  0.002902  0.008426\n",
      "2018-04-06 -0.029700 -0.017883\n",
      "2018-04-09  0.013931  0.002543\n",
      "2018-04-10  0.041681  0.014866\n",
      "2018-04-11 -0.009874 -0.004097\n",
      "2018-04-12  0.003188  0.005231\n",
      "2018-04-13 -0.022302 -0.002720\n",
      "2018-04-16  0.015343  0.006527\n",
      "2018-04-17  0.022638  0.006122\n",
      "2018-04-18  0.022028  0.002130\n",
      "2018-04-19 -0.007087 -0.004831\n",
      "2018-04-20 -0.012649 -0.005089\n",
      "2018-04-23 -0.019962  0.000286\n",
      "2018-04-24 -0.014226 -0.007703\n",
      "...              ...       ...\n",
      "2018-05-31  0.000152 -0.007850\n",
      "2018-06-01  0.031468  0.007451\n",
      "2018-06-04  0.022310  0.004197\n",
      "2018-06-05 -0.002780 -0.001201\n",
      "2018-06-06 -0.000336  0.009398\n",
      "2018-06-07 -0.022724  0.000803\n",
      "2018-06-08  0.007096  0.003401\n",
      "2018-06-11  0.003067  0.001938\n",
      "2018-06-12  0.016298 -0.000953\n",
      "2018-06-13 -0.011836 -0.004624\n",
      "2018-06-14  0.020313 -0.001056\n",
      "2018-06-15 -0.013656 -0.002926\n",
      "2018-06-18  0.002737 -0.002045\n",
      "2018-06-19 -0.020049 -0.005496\n",
      "2018-06-20  0.008766  0.000772\n",
      "2018-06-21 -0.019685 -0.007022\n",
      "2018-06-22 -0.000990  0.006297\n",
      "2018-06-25 -0.054736 -0.012577\n",
      "2018-06-26  0.000888  0.002317\n",
      "2018-06-27 -0.034006 -0.007903\n",
      "2018-06-28  0.017997  0.005136\n",
      "2018-06-29 -0.015245  0.002263\n",
      "2018-07-02  0.004464 -0.001494\n",
      "2018-07-03 -0.008677  0.000730\n",
      "2018-07-05  0.011463  0.007218\n",
      "2018-07-06  0.028434  0.006310\n",
      "2018-07-09  0.002493  0.008808\n",
      "2018-07-10 -0.001038  0.002948\n",
      "2018-07-11 -0.027004 -0.010437\n",
      "2018-07-12  0.014566  0.006278\n",
      "\n",
      "[85 rows x 2 columns]\n",
      "                            OLS Regression Results                            \n",
      "==============================================================================\n",
      "Dep. Variable:                Tencent   R-squared:                       0.423\n",
      "Model:                            OLS   Adj. R-squared:                  0.416\n",
      "Method:                 Least Squares   F-statistic:                     60.93\n",
      "Date:                Fri, 10 May 2019   Prob (F-statistic):           1.58e-11\n",
      "Time:                        18:34:06   Log-Likelihood:                 233.41\n",
      "No. Observations:                  85   AIC:                            -462.8\n",
      "Df Residuals:                      83   BIC:                            -457.9\n",
      "Df Model:                           1                                         \n",
      "Covariance Type:            nonrobust                                         \n",
      "==============================================================================\n",
      "                 coef    std err          t      P>|t|      [0.025      0.975]\n",
      "------------------------------------------------------------------------------\n",
      "Intercept    5.87e-05      0.002      0.034      0.973      -0.003       0.003\n",
      "HSI            1.7251      0.221      7.806      0.000       1.286       2.165\n",
      "==============================================================================\n",
      "Omnibus:                        1.155   Durbin-Watson:                   1.601\n",
      "Prob(Omnibus):                  0.561   Jarque-Bera (JB):                1.066\n",
      "Skew:                          -0.097   Prob(JB):                        0.587\n",
      "Kurtosis:                       2.487   Cond. No.                         130.\n",
      "==============================================================================\n",
      "\n",
      "Warnings:\n",
      "[1] Standard Errors assume that the covariance matrix of the errors is correctly specified.\n",
      "Intercept    0.000059\n",
      "HSI          1.725094\n",
      "dtype: float64\n",
      "MSE Root=0.015717260541903692\n",
      "Return of Alibaba = 5.9e-05 + 1.725094(Return of NYSE)\n"
     ]
    }
   ],
   "source": [
    "import pandas as pd \n",
    "import numpy as np\n",
    "from scipy import stats\n",
    "import statsmodels.api as sm\n",
    "import statsmodels.formula.api as smf\n",
    "\n",
    "#813\n",
    "#NetEase Adjusted Share Price in Estimation Window of 813\n",
    "est_813_ba= pd.read_excel('est-win-813-BA.xlsx',index_col=0)\n",
    "ln_return(est_813_ba)\n",
    "print(est_813_ba)\n",
    "\n",
    "#NASDAQ \n",
    "est_813_ny = pd.read_excel('est-win-813-NYSE.xlsx',index_col=0)\n",
    "ln_return(est_813_ny)\n",
    "print(est_813_ny)\n",
    "\n",
    "#regression 813\n",
    "ols(est_813_ba,est_813_ny)\n",
    "const_813, ln_ret_813= round(params,6)\n",
    "r_mse= mse**.5\n",
    "\n",
    "print (\"MSE Root=%s\" %(r_mse))\n",
    "print (\"Return of Alibaba = %s + %s(Return of NYSE)\" %(const_813,ln_ret_813))"
   ]
  },
  {
   "cell_type": "code",
   "execution_count": 5,
   "metadata": {},
   "outputs": [],
   "source": [
    "def abret(ret,act):\n",
    "    ret = pd.Series(ret[\"ln_ret\"])\n",
    "    er = const_813 + ln_ret_813 * ret\n",
    "    act['ER'] = pd.Series(er)\n",
    "    act[\"AR\"]= act.ln_ret-act.ER\n",
    "    act['AR Beta'] = (act[\"AR\"]/r_mse)\n",
    "    act[\"CAR\"]= act[\"AR\"].cumsum()\n",
    "    act[\"CAR Beta\"]= (act[\"CAR\"]/ ((len(act)**.5)*r_mse))\n",
    "    act = act.drop(act.columns[[0, 1]], axis=1)\n",
    "    print (act)\n",
    "    act.to_excel(\"output.xlsx\")\n",
    "    return"
   ]
  },
  {
   "cell_type": "code",
   "execution_count": 23,
   "metadata": {
    "scrolled": true
   },
   "outputs": [
    {
     "name": "stdout",
     "output_type": "stream",
     "text": [
      "            PX_LAST  PX_LAST+1    ln_ret\n",
      "Date                                    \n",
      "2018-08-13   177.68     180.01 -0.013028\n",
      "2018-08-14   172.53     177.68 -0.029413\n",
      "2018-08-15   169.83     172.53 -0.015773\n",
      "2018-08-16   171.99     169.83  0.012638\n",
      "             PX_LAST  PX_LAST+1    ln_ret\n",
      "Date                                     \n",
      "2018-08-13  12763.66   12843.49 -0.006235\n",
      "2018-08-14  12835.31   12763.66  0.005598\n",
      "2018-08-15  12723.09   12835.31 -0.008782\n",
      "2018-08-16  12841.28   12723.09  0.009247\n",
      "              ln_ret        ER        AR   AR Beta       CAR  CAR Beta\n",
      "Date                                                                  \n",
      "2018-08-13 -0.013028 -0.010697 -0.002331 -0.148325 -0.002331 -0.074163\n",
      "2018-08-14 -0.029413  0.009716 -0.039129 -2.489552 -0.041460 -1.318939\n",
      "2018-08-15 -0.015773 -0.015090 -0.000683 -0.043472 -0.042143 -1.340675\n",
      "2018-08-16  0.012638  0.016010 -0.003372 -0.214524 -0.045515 -1.447937\n"
     ]
    }
   ],
   "source": [
    "#Actual return on 813\n",
    "act_813_ba= pd.read_excel('act-win-813-BA.xlsx',index_col=0)\n",
    "ln_return(act_813_ba)\n",
    "print(act_813_ba)\n",
    "\n",
    "#Actual NASDAQ return on 813\n",
    "act_813_ny= pd.read_excel('act-win-813-NYSE.xlsx',index_col=0)\n",
    "ln_return(act_813_ny)\n",
    "print(act_813_ny)\n",
    "\n",
    "#Abnormal Return 813\n",
    "abret(act_813_ny, act_813_ba)"
   ]
  },
  {
   "cell_type": "code",
   "execution_count": 24,
   "metadata": {},
   "outputs": [
    {
     "name": "stdout",
     "output_type": "stream",
     "text": [
      "            PX_LAST  PX_LAST+1    ln_ret\n",
      "Date                                    \n",
      "2018-08-31   175.01     174.60  0.002345\n",
      "2018-09-04   170.44     175.01 -0.026460\n",
      "2018-09-05   164.23     170.44 -0.037115\n",
      "2018-09-06   159.87     164.23 -0.026907\n",
      "             PX_LAST  PX_LAST+1    ln_ret\n",
      "Date                                     \n",
      "2018-08-31  13016.89   13039.93 -0.001768\n",
      "2018-09-04  12969.86   13016.89 -0.003620\n",
      "2018-09-05  12968.55   12969.86 -0.000101\n",
      "2018-09-06  12938.91   12968.55 -0.002288\n",
      "2018-09-07  12911.12   12938.91 -0.002150\n",
      "              ln_ret        ER        AR   AR Beta       CAR  CAR Beta\n",
      "Date                                                                  \n",
      "2018-08-31  0.002345 -0.002992  0.005337  0.339576  0.005337  0.169788\n",
      "2018-09-04 -0.026460 -0.006185 -0.020275 -1.289966 -0.014938 -0.475195\n",
      "2018-09-05 -0.037115 -0.000115 -0.037000 -2.354112 -0.051938 -1.652251\n",
      "2018-09-06 -0.026907 -0.003888 -0.023019 -1.464545 -0.074956 -2.384524\n"
     ]
    }
   ],
   "source": [
    "#Actual return on 831\n",
    "act_831_ba= pd.read_excel('act-win-831-BA.xlsx',index_col=0)\n",
    "ln_return(act_831_ba)\n",
    "print(act_831_ba)\n",
    "\n",
    "#Actual NASDAQ return on 831\n",
    "act_831_ny= pd.read_excel('act-win-831-NYSE.xlsx',index_col=0)\n",
    "ln_return(act_831_ny)\n",
    "print(act_831_ny)\n",
    "\n",
    "#Abnormal Return 831\n",
    "abret(act_831_ny, act_831_ba,)\n"
   ]
  },
  {
   "cell_type": "code",
   "execution_count": 9,
   "metadata": {
    "scrolled": true
   },
   "outputs": [
    {
     "name": "stdout",
     "output_type": "stream",
     "text": [
      "            PX_LAST  PX_LAST+1    ln_ret\n",
      "Date                                    \n",
      "2018-09-07   162.37     159.87  0.015517\n",
      "2018-09-10   156.36     162.37 -0.037717\n",
      "2018-09-11   157.46     156.36  0.007010\n",
      "2018-09-12   161.46     157.46  0.025086\n",
      "             PX_LAST  PX_LAST+1    ln_ret\n",
      "Date                                     \n",
      "2018-09-07  12911.12   12938.91 -0.002150\n",
      "2018-09-10  12928.67   12911.12  0.001358\n",
      "2018-09-11  12952.30   12928.67  0.001826\n",
      "2018-09-12  12990.10   12952.30  0.002914\n",
      "              ln_ret        ER        AR   AR Beta       CAR  CAR Beta\n",
      "Date                                                                  \n",
      "2018-09-07  0.015517 -0.003650  0.019167  1.219475  0.019167  0.609738\n",
      "2018-09-10 -0.037717  0.002402 -0.040119 -2.552541 -0.020952 -0.666533\n",
      "2018-09-11  0.007010  0.003209  0.003801  0.241855 -0.017151 -0.545605\n",
      "2018-09-12  0.025086  0.005086  0.020000  1.272473  0.002849  0.090631\n"
     ]
    }
   ],
   "source": [
    "#Actual return on 96\n",
    "act_96_ba= pd.read_excel('act-win-96-ba.xlsx',index_col=0)\n",
    "ln_return(act_96_ba)\n",
    "print(act_96_ba)\n",
    "\n",
    "#Actual NASDAQ return on 831\n",
    "act_96_ny= pd.read_excel('act-win-96-NYSE.xlsx',index_col=0)\n",
    "ln_return(act_96_ny)\n",
    "print(act_96_ny)\n",
    "\n",
    "#Abnormal Return 831\n",
    "abret(act_96_ny, act_96_ba)"
   ]
  },
  {
   "cell_type": "code",
   "execution_count": 11,
   "metadata": {},
   "outputs": [
    {
     "name": "stdout",
     "output_type": "stream",
     "text": [
      "0    0.007391\n",
      "1   -0.033174\n",
      "2   -0.011294\n",
      "3   -0.002130\n",
      "dtype: float64\n"
     ]
    }
   ],
   "source": [
    "#calculate AAR\n",
    "aar = []\n",
    "for ar in act_813_ba['AR'],act_831_ba['AR'],act_96_ba['AR']:\n",
    "    ar = ar.reset_index()\n",
    "    ar = ar['AR']\n",
    "    aar.append(ar/3)\n",
    "aar = pd.concat(aar, axis=1)\n",
    "aar= aar.sum(axis=1)\n",
    "print (aar)"
   ]
  },
  {
   "cell_type": "code",
   "execution_count": 12,
   "metadata": {},
   "outputs": [
    {
     "name": "stdout",
     "output_type": "stream",
     "text": [
      "0    0.007391\n",
      "1   -0.025783\n",
      "2   -0.037077\n",
      "3   -0.039208\n",
      "dtype: float64\n"
     ]
    }
   ],
   "source": [
    "#calculate CAAR\n",
    "caar = []\n",
    "for car in act_813_ba['CAR'],act_831_ba['CAR'],act_96_ba['CAR']:\n",
    "    car = car.reset_index()\n",
    "    car = car['CAR']\n",
    "    caar.append(car/3)\n",
    "caar = pd.concat(caar, axis=1)\n",
    "caar= caar.sum(axis=1)\n",
    "print (caar)"
   ]
  },
  {
   "cell_type": "code",
   "execution_count": 13,
   "metadata": {
    "scrolled": true
   },
   "outputs": [
    {
     "name": "stdout",
     "output_type": "stream",
     "text": [
      "        AAR      CAAR\n",
      "0  0.007391  0.007391\n",
      "1 -0.033174 -0.025783\n",
      "2 -0.011294 -0.037077\n",
      "3 -0.002130 -0.039208\n"
     ]
    }
   ],
   "source": [
    "avg=pd.concat([aar, caar], axis=1)\n",
    "avg.columns= ['AAR','CAAR']\n",
    "print (avg)"
   ]
  },
  {
   "cell_type": "code",
   "execution_count": 14,
   "metadata": {},
   "outputs": [
    {
     "name": "stdout",
     "output_type": "stream",
     "text": [
      "0.0052390868473012305\n",
      "0    1.410726\n",
      "1   -6.332060\n",
      "2   -2.155729\n",
      "3   -0.406596\n",
      "dtype: float64\n"
     ]
    }
   ],
   "source": [
    "aar_var= (r_mse*3)/(3**2)\n",
    "taar = aar/aar_var\n",
    "print (aar_var)\n",
    "print (taar)"
   ]
  },
  {
   "cell_type": "code",
   "execution_count": 15,
   "metadata": {},
   "outputs": [
    {
     "name": "stdout",
     "output_type": "stream",
     "text": [
      "0    0.705363\n",
      "1   -2.460667\n",
      "2   -3.538531\n",
      "3   -3.741829\n",
      "dtype: float64\n"
     ]
    }
   ],
   "source": [
    "caar_var = ((4**.5)*(r_mse*3))/(3**2)\n",
    "tcaar = caar/caar_var\n",
    "print (tcaar)"
   ]
  },
  {
   "cell_type": "code",
   "execution_count": 16,
   "metadata": {},
   "outputs": [
    {
     "name": "stdout",
     "output_type": "stream",
     "text": [
      "        AAR  AAR Beta      CAAR  CAAR Beta\n",
      "0  0.007391  1.410726  0.007391   0.705363\n",
      "1 -0.033174 -6.332060 -0.025783  -2.460667\n",
      "2 -0.011294 -2.155729 -0.037077  -3.538531\n",
      "3 -0.002130 -0.406596 -0.039208  -3.741829\n"
     ]
    }
   ],
   "source": [
    "avg=pd.concat([aar, taar, caar,tcaar], axis=1)\n",
    "avg.columns= ['AAR','AAR Beta', 'CAAR', 'CAAR Beta']\n",
    "print (avg)"
   ]
  },
  {
   "cell_type": "code",
   "execution_count": null,
   "metadata": {},
   "outputs": [],
   "source": []
  },
  {
   "cell_type": "code",
   "execution_count": 17,
   "metadata": {},
   "outputs": [
    {
     "name": "stdout",
     "output_type": "stream",
     "text": [
      "T-stat for 813 is -0.14832536913533464\n",
      "T-stat for 831 is 0.33957589940008853\n",
      "T-stat for 96 is 1.2194754061874973\n"
     ]
    }
   ],
   "source": [
    "#Testing AR\n",
    "\n",
    "#813 test\n",
    "tar_813 = act_813_ba[\"AR\"][0] / r_mse\n",
    "print (\"T-stat for 813 is %s\" %tar_813)\n",
    "\n",
    "#831 test\n",
    "tar_831 = act_831_ba[\"AR\"][0] / r_mse\n",
    "print (\"T-stat for 831 is %s\" %tar_831)\n",
    "\n",
    "#96 test\n",
    "tar_96 = act_96_ba[\"AR\"][0] / r_mse\n",
    "print (\"T-stat for 96 is %s\" %tar_96)"
   ]
  },
  {
   "cell_type": "code",
   "execution_count": 18,
   "metadata": {},
   "outputs": [],
   "source": [
    "car = lambda act, mse: act[\"CAR\"][-1]/ ((len(act)**.5)*mse)"
   ]
  },
  {
   "cell_type": "code",
   "execution_count": 19,
   "metadata": {},
   "outputs": [
    {
     "name": "stdout",
     "output_type": "stream",
     "text": [
      "-1.447936933711243\n",
      "-2.384523832490006\n",
      "0.09063134058318106\n"
     ]
    }
   ],
   "source": [
    "#Test CAR\n",
    "t813 = car(act_813_ba,r_mse)\n",
    "print(t813)\n",
    "\n",
    "t831=car(act_831_ba,r_mse)\n",
    "print (t831)\n",
    "\n",
    "t96=car(act_96_ba,r_mse)\n",
    "print (t96)"
   ]
  },
  {
   "cell_type": "code",
   "execution_count": 20,
   "metadata": {},
   "outputs": [
    {
     "name": "stdout",
     "output_type": "stream",
     "text": [
      "1.4107259364522513\n"
     ]
    }
   ],
   "source": [
    "#tTest AAR\n",
    "var= (r_mse*3)/(3**2)\n",
    "taar = aar[0]/ var\n",
    "print (taar)"
   ]
  },
  {
   "cell_type": "code",
   "execution_count": 21,
   "metadata": {},
   "outputs": [
    {
     "name": "stdout",
     "output_type": "stream",
     "text": [
      "0.010478173694602461\n",
      "-3.741829425618068\n"
     ]
    }
   ],
   "source": [
    "#Test CAAR\n",
    "#CAAR variance:\n",
    "caar_var = ((4**.5)*(r_mse*3))/(3**2)\n",
    "tcaar = caar[3]/caar_var\n",
    "print (caar_var)\n",
    "print (tcaar)"
   ]
  },
  {
   "cell_type": "code",
   "execution_count": 22,
   "metadata": {},
   "outputs": [
    {
     "data": {
      "image/png": "[encoded data removed]",
      "text/plain": [
       "<Figure size 432x288 with 1 Axes>"
      ]
     },
     "metadata": {},
     "output_type": "display_data"
    }
   ],
   "source": [
    "#caar curve\n",
    "import matplotlib.pyplot as plt\n",
    "import seaborn as sns\n",
    "sns.set_style(\"darkgrid\")\n",
    "plt.plot(range(4),caar,\"-o\")\n",
    "plt.hlines(0,0,3,linestyles='dotted')\n",
    "plt.xticks(np.arange(0, 4, step=1))\n",
    "plt.savefig('foo.png')\n",
    "plt.show()\n"
   ]
  }
 ],
 "metadata": {
  "kernelspec": {
   "display_name": "Python 3",
   "language": "python",
   "name": "python3"
  },
  "language_info": {
   "codemirror_mode": {
    "name": "ipython",
    "version": 3
   },
   "file_extension": ".py",
   "mimetype": "text/x-python",
   "name": "python",
   "nbconvert_exporter": "python",
   "pygments_lexer": "ipython3",
   "version": "3.7.1"
  }
 },
 "nbformat": 4,
 "nbformat_minor": 2
}
