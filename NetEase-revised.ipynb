{
 "cells": [
  {
   "cell_type": "code",
   "execution_count": 1,
   "metadata": {},
   "outputs": [],
   "source": [
    "def ln_return(price):\n",
    "    price['PX_LAST+1']= pd.Series(price.PX_LAST.shift(+1))\n",
    "    price_ln= np.log(price.PX_LAST) - np.log(price[\"PX_LAST+1\"])\n",
    "    price['ln_ret'] = pd.Series(price_ln)\n",
    "    price.drop(price.head(1).index,inplace=True)   \n",
    "    return"
   ]
  },
  {
   "cell_type": "code",
   "execution_count": 2,
   "metadata": {},
   "outputs": [],
   "source": [
    "def ols(stock, market):\n",
    "    global params\n",
    "    global mse\n",
    "    reg=pd.concat([stock[\"ln_ret\"],market[\"ln_ret\"]], axis=1)\n",
    "    reg.columns = ['Tencent', 'HSI']\n",
    "    print(reg)\n",
    "    results =smf.ols(\"Tencent ~ HSI\",data=reg).fit()\n",
    "    print (results.summary())\n",
    "    params=results.params\n",
    "    print(results.params)\n",
    "    mse =results.mse_resid\n",
    "    return"
   ]
  },
  {
   "cell_type": "code",
   "execution_count": 3,
   "metadata": {},
   "outputs": [
    {
     "name": "stdout",
     "output_type": "stream",
     "text": [
      "            PX_LAST  PX_LAST+1    ln_ret\n",
      "Date                                    \n",
      "2018-03-14   314.17     311.62  0.008150\n",
      "2018-03-15   325.58     314.17  0.035674\n",
      "2018-03-16   326.94     325.58  0.004168\n",
      "2018-03-19   317.95     326.94 -0.027883\n",
      "2018-03-20   314.61     317.95 -0.010560\n",
      "2018-03-21   319.77     314.61  0.016268\n",
      "2018-03-22   302.51     319.77 -0.055488\n",
      "2018-03-23   295.66     302.51 -0.022904\n",
      "2018-03-26   297.38     295.66  0.005801\n",
      "2018-03-27   280.76     297.38 -0.057511\n",
      "2018-03-28   274.54     280.76 -0.022403\n",
      "2018-03-29   280.39     274.54  0.021085\n",
      "2018-04-02   275.86     280.39 -0.016288\n",
      "2018-04-03   271.22     275.86 -0.016963\n",
      "2018-04-04   276.96     271.22  0.020943\n",
      "2018-04-05   278.07     276.96  0.004000\n",
      "2018-04-06   272.74     278.07 -0.019354\n",
      "2018-04-09   280.51     272.74  0.028090\n",
      "2018-04-10   282.49     280.51  0.007034\n",
      "2018-04-11   281.74     282.49 -0.002658\n",
      "2018-04-12   275.81     281.74 -0.021272\n",
      "2018-04-13   272.99     275.81 -0.010277\n",
      "2018-04-16   272.68     272.99 -0.001136\n",
      "2018-04-17   278.18     272.68  0.019969\n",
      "2018-04-18   277.22     278.18 -0.003457\n",
      "2018-04-19   275.14     277.22 -0.007531\n",
      "2018-04-20   266.30     275.14 -0.032657\n",
      "2018-04-23   260.78     266.30 -0.020946\n",
      "2018-04-24   254.10     260.78 -0.025949\n",
      "2018-04-25   249.07     254.10 -0.019994\n",
      "...             ...        ...       ...\n",
      "2018-05-31   228.32     227.01  0.005754\n",
      "2018-06-01   232.48     228.32  0.018056\n",
      "2018-06-04   237.41     232.48  0.020984\n",
      "2018-06-05   238.35     237.41  0.003952\n",
      "2018-06-06   237.93     238.35 -0.001764\n",
      "2018-06-07   239.63     237.93  0.007120\n",
      "2018-06-08   243.58     239.63  0.016349\n",
      "2018-06-11   253.20     243.58  0.038734\n",
      "2018-06-12   257.44     253.20  0.016607\n",
      "2018-06-13   255.21     257.44 -0.008700\n",
      "2018-06-14   255.04     255.21 -0.000666\n",
      "2018-06-15   254.88     255.04 -0.000628\n",
      "2018-06-18   252.36     254.88 -0.009936\n",
      "2018-06-19   249.19     252.36 -0.012641\n",
      "2018-06-20   254.90     249.19  0.022656\n",
      "2018-06-21   254.19     254.90 -0.002789\n",
      "2018-06-22   259.40     254.19  0.020289\n",
      "2018-06-25   248.33     259.40 -0.043613\n",
      "2018-06-26   249.98     248.33  0.006622\n",
      "2018-06-27   243.86     249.98 -0.024787\n",
      "2018-06-28   246.63     243.86  0.011295\n",
      "2018-06-29   252.67     246.63  0.024195\n",
      "2018-07-02   250.65     252.67 -0.008027\n",
      "2018-07-03   249.58     250.65 -0.004278\n",
      "2018-07-05   256.26     249.58  0.026413\n",
      "2018-07-06   261.19     256.26  0.019056\n",
      "2018-07-09   267.57     261.19  0.024133\n",
      "2018-07-10   265.24     267.57 -0.008746\n",
      "2018-07-11   265.52     265.24  0.001055\n",
      "2018-07-12   267.10     265.52  0.005933\n",
      "\n",
      "[84 rows x 3 columns]\n",
      "             PX_LAST  PX_LAST+1    ln_ret\n",
      "Date                                     \n",
      "2018-03-14  7496.811   7511.012 -0.001892\n",
      "2018-03-15  7481.742   7496.811 -0.002012\n",
      "2018-03-16  7481.988   7481.742  0.000033\n",
      "2018-03-19  7344.244   7481.988 -0.018582\n",
      "2018-03-20  7364.302   7344.244  0.002727\n",
      "2018-03-21  7345.285   7364.302 -0.002586\n",
      "2018-03-22  7166.677   7345.285 -0.024617\n",
      "2018-03-23  6992.666   7166.677 -0.024580\n",
      "2018-03-26  7220.543   6992.666  0.032068\n",
      "2018-03-27  7008.806   7220.543 -0.029763\n",
      "2018-03-28  6949.227   7008.806 -0.008537\n",
      "2018-03-29  7063.445   6949.227  0.016302\n",
      "2018-04-02  6870.119   7063.445 -0.027751\n",
      "2018-04-03  6941.282   6870.119  0.010305\n",
      "2018-04-04  7042.107   6941.282  0.014421\n",
      "2018-04-05  7076.552   7042.107  0.004879\n",
      "2018-04-06  6915.111   7076.552 -0.023078\n",
      "2018-04-09  6950.344   6915.111  0.005082\n",
      "2018-04-10  7094.300   6950.344  0.020500\n",
      "2018-04-11  7069.026   7094.300 -0.003569\n",
      "2018-04-12  7140.248   7069.026  0.010025\n",
      "2018-04-13  7106.650   7140.248 -0.004717\n",
      "2018-04-16  7156.285   7106.650  0.006960\n",
      "2018-04-17  7281.099   7156.285  0.017291\n",
      "2018-04-18  7295.236   7281.099  0.001940\n",
      "2018-04-19  7238.056   7295.236 -0.007869\n",
      "2018-04-20  7146.126   7238.056 -0.012782\n",
      "2018-04-23  7128.602   7146.126 -0.002455\n",
      "2018-04-24  7007.353   7128.602 -0.017155\n",
      "2018-04-25  7003.737   7007.353 -0.000516\n",
      "...              ...        ...       ...\n",
      "2018-05-31  7442.117   7462.454 -0.002729\n",
      "2018-06-01  7554.332   7442.117  0.014966\n",
      "2018-06-04  7606.459   7554.332  0.006877\n",
      "2018-06-05  7637.863   7606.459  0.004120\n",
      "2018-06-06  7689.243   7637.863  0.006704\n",
      "2018-06-07  7635.070   7689.243 -0.007070\n",
      "2018-06-08  7645.511   7635.070  0.001367\n",
      "2018-06-11  7659.925   7645.511  0.001884\n",
      "2018-06-12  7703.794   7659.925  0.005711\n",
      "2018-06-13  7695.699   7703.794 -0.001051\n",
      "2018-06-14  7761.042   7695.699  0.008455\n",
      "2018-06-15  7746.378   7761.042 -0.001891\n",
      "2018-06-18  7747.025   7746.378  0.000084\n",
      "2018-06-19  7725.585   7747.025 -0.002771\n",
      "2018-06-20  7781.515   7725.585  0.007214\n",
      "2018-06-21  7712.952   7781.515 -0.008850\n",
      "2018-06-22  7692.817   7712.952 -0.002614\n",
      "2018-06-25  7532.006   7692.817 -0.021126\n",
      "2018-06-26  7561.627   7532.006  0.003925\n",
      "2018-06-27  7445.085   7561.627 -0.015532\n",
      "2018-06-28  7503.683   7445.085  0.007840\n",
      "2018-06-29  7510.304   7503.683  0.000882\n",
      "2018-07-02  7567.687   7510.304  0.007612\n",
      "2018-07-03  7502.673   7567.687 -0.008628\n",
      "2018-07-05  7586.426   7502.673  0.011101\n",
      "2018-07-06  7688.387   7586.426  0.013350\n",
      "2018-07-09  7756.201   7688.387  0.008782\n",
      "2018-07-10  7759.198   7756.201  0.000386\n",
      "2018-07-11  7716.611   7759.198 -0.005504\n",
      "2018-07-12  7823.916   7716.611  0.013810\n",
      "\n",
      "[84 rows x 3 columns]\n",
      "             Tencent       HSI\n",
      "Date                          \n",
      "2018-03-14  0.008150 -0.001892\n",
      "2018-03-15  0.035674 -0.002012\n",
      "2018-03-16  0.004168  0.000033\n",
      "2018-03-19 -0.027883 -0.018582\n",
      "2018-03-20 -0.010560  0.002727\n",
      "2018-03-21  0.016268 -0.002586\n",
      "2018-03-22 -0.055488 -0.024617\n",
      "2018-03-23 -0.022904 -0.024580\n",
      "2018-03-26  0.005801  0.032068\n",
      "2018-03-27 -0.057511 -0.029763\n",
      "2018-03-28 -0.022403 -0.008537\n",
      "2018-03-29  0.021085  0.016302\n",
      "2018-04-02 -0.016288 -0.027751\n",
      "2018-04-03 -0.016963  0.010305\n",
      "2018-04-04  0.020943  0.014421\n",
      "2018-04-05  0.004000  0.004879\n",
      "2018-04-06 -0.019354 -0.023078\n",
      "2018-04-09  0.028090  0.005082\n",
      "2018-04-10  0.007034  0.020500\n",
      "2018-04-11 -0.002658 -0.003569\n",
      "2018-04-12 -0.021272  0.010025\n",
      "2018-04-13 -0.010277 -0.004717\n",
      "2018-04-16 -0.001136  0.006960\n",
      "2018-04-17  0.019969  0.017291\n",
      "2018-04-18 -0.003457  0.001940\n",
      "2018-04-19 -0.007531 -0.007869\n",
      "2018-04-20 -0.032657 -0.012782\n",
      "2018-04-23 -0.020946 -0.002455\n",
      "2018-04-24 -0.025949 -0.017155\n",
      "2018-04-25 -0.019994 -0.000516\n",
      "...              ...       ...\n",
      "2018-05-31  0.005754 -0.002729\n",
      "2018-06-01  0.018056  0.014966\n",
      "2018-06-04  0.020984  0.006877\n",
      "2018-06-05  0.003952  0.004120\n",
      "2018-06-06 -0.001764  0.006704\n",
      "2018-06-07  0.007120 -0.007070\n",
      "2018-06-08  0.016349  0.001367\n",
      "2018-06-11  0.038734  0.001884\n",
      "2018-06-12  0.016607  0.005711\n",
      "2018-06-13 -0.008700 -0.001051\n",
      "2018-06-14 -0.000666  0.008455\n",
      "2018-06-15 -0.000628 -0.001891\n",
      "2018-06-18 -0.009936  0.000084\n",
      "2018-06-19 -0.012641 -0.002771\n",
      "2018-06-20  0.022656  0.007214\n",
      "2018-06-21 -0.002789 -0.008850\n",
      "2018-06-22  0.020289 -0.002614\n",
      "2018-06-25 -0.043613 -0.021126\n",
      "2018-06-26  0.006622  0.003925\n",
      "2018-06-27 -0.024787 -0.015532\n",
      "2018-06-28  0.011295  0.007840\n",
      "2018-06-29  0.024195  0.000882\n",
      "2018-07-02 -0.008027  0.007612\n",
      "2018-07-03 -0.004278 -0.008628\n",
      "2018-07-05  0.026413  0.011101\n",
      "2018-07-06  0.019056  0.013350\n",
      "2018-07-09  0.024133  0.008782\n",
      "2018-07-10 -0.008746  0.000386\n",
      "2018-07-11  0.001055 -0.005504\n",
      "2018-07-12  0.005933  0.013810\n",
      "\n",
      "[84 rows x 2 columns]\n",
      "                            OLS Regression Results                            \n",
      "==============================================================================\n",
      "Dep. Variable:                Tencent   R-squared:                       0.287\n",
      "Model:                            OLS   Adj. R-squared:                  0.279\n",
      "Method:                 Least Squares   F-statistic:                     33.04\n",
      "Date:                Sun, 12 May 2019   Prob (F-statistic):           1.49e-07\n",
      "Time:                        18:42:10   Log-Likelihood:                 216.41\n",
      "No. Observations:                  84   AIC:                            -428.8\n",
      "Df Residuals:                      82   BIC:                            -423.9\n",
      "Df Model:                           1                                         \n",
      "Covariance Type:            nonrobust                                         \n",
      "==============================================================================\n",
      "                 coef    std err          t      P>|t|      [0.025      0.975]\n",
      "------------------------------------------------------------------------------\n",
      "Intercept     -0.0023      0.002     -1.154      0.252      -0.006       0.002\n",
      "HSI            1.0543      0.183      5.748      0.000       0.689       1.419\n",
      "==============================================================================\n",
      "Omnibus:                       20.292   Durbin-Watson:                   1.979\n",
      "Prob(Omnibus):                  0.000   Jarque-Bera (JB):               33.361\n",
      "Skew:                          -0.959   Prob(JB):                     5.70e-08\n",
      "Kurtosis:                       5.419   Cond. No.                         90.2\n",
      "==============================================================================\n",
      "\n",
      "Warnings:\n",
      "[1] Standard Errors assume that the covariance matrix of the errors is correctly specified.\n",
      "Intercept   -0.002348\n",
      "HSI          1.054321\n",
      "dtype: float64\n",
      "MSE Root=0.018627051590847016\n",
      "Return of NetEase = -0.002348 + 1.054321(Return of NASDAQ)\n"
     ]
    }
   ],
   "source": [
    "import pandas as pd \n",
    "import numpy as np\n",
    "from scipy import stats\n",
    "import statsmodels.api as sm\n",
    "import statsmodels.formula.api as smf\n",
    "\n",
    "#813\n",
    "#NetEase Adjusted Share Price in Estimation Window of 813\n",
    "est_813_ne= pd.read_excel('est-win-813-NE.xlsx',index_col=0)\n",
    "ln_return(est_813_ne)\n",
    "print(est_813_ne)\n",
    "\n",
    "#NASDAQ \n",
    "est_813_nas = pd.read_excel('est-win-813-NASDAQ.xlsx',index_col=0)\n",
    "ln_return(est_813_nas)\n",
    "print(est_813_nas)\n",
    "\n",
    "#regression 813\n",
    "ols(est_813_ne,est_813_nas)\n",
    "const_813, ln_ret_813= round(params,6)\n",
    "r_mse = mse**.5\n",
    "\n",
    "print (\"MSE Root=%s\" %(r_mse))\n",
    "print (\"Return of NetEase = %s + %s(Return of NASDAQ)\" %(const_813,ln_ret_813))\n"
   ]
  },
  {
   "cell_type": "code",
   "execution_count": 4,
   "metadata": {},
   "outputs": [],
   "source": [
    "def abret(ret,act):\n",
    "    ret = pd.Series(ret[\"ln_ret\"])\n",
    "    er = const_813 + ln_ret_813 * ret\n",
    "    act['ER'] = pd.Series(er)\n",
    "    act[\"AR\"]= act.ln_ret-act.ER\n",
    "    act['AR Beta'] = (act[\"AR\"]/r_mse)\n",
    "    act[\"CAR\"]= act[\"AR\"].cumsum()\n",
    "    act[\"CAR Beta\"]= (act[\"CAR\"]/ ((len(act)**.5)*r_mse))\n",
    "    act = act.drop(act.columns[[0, 1]], axis=1)\n",
    "    print (act)\n",
    "    act.to_excel(\"output.xlsx\")\n",
    "    return"
   ]
  },
  {
   "cell_type": "code",
   "execution_count": 5,
   "metadata": {},
   "outputs": [
    {
     "name": "stdout",
     "output_type": "stream",
     "text": [
      "            PX_LAST  PX_LAST+1    ln_ret\n",
      "Date                                    \n",
      "2018-08-13   215.79     224.67 -0.040327\n",
      "2018-08-14   208.21     215.79 -0.035759\n",
      "2018-08-15   200.65     208.21 -0.036985\n",
      "2018-08-16   200.25     200.65 -0.001996\n",
      "             PX_LAST  PX_LAST+1    ln_ret\n",
      "Date                                     \n",
      "2018-08-13  7819.706   7839.110 -0.002478\n",
      "2018-08-14  7870.895   7819.706  0.006525\n",
      "2018-08-15  7774.118   7870.895 -0.012372\n",
      "2018-08-16  7806.524   7774.118  0.004160\n",
      "              ln_ret        ER        AR   AR Beta       CAR  CAR Beta\n",
      "Date                                                                  \n",
      "2018-08-13 -0.040327 -0.004961 -0.035366 -1.898635 -0.035366 -0.949317\n",
      "2018-08-14 -0.035759  0.004531 -0.040290 -2.162972 -0.075656 -2.030803\n",
      "2018-08-15 -0.036985 -0.015392 -0.021593 -1.159243 -0.097249 -2.610425\n",
      "2018-08-16 -0.001996  0.002038 -0.004033 -0.216527 -0.101282 -2.718688\n"
     ]
    }
   ],
   "source": [
    "#Actual return on 813\n",
    "act_813_ne= pd.read_excel('act-win-813-NE.xlsx',index_col=0)\n",
    "ln_return(act_813_ne)\n",
    "print(act_813_ne)\n",
    "\n",
    "#Actual NASDAQ return on 813\n",
    "act_813_NAS= pd.read_excel('act-win-813-NASDAQ.xlsx',index_col=0)\n",
    "ln_return(act_813_NAS)\n",
    "print(act_813_NAS)\n",
    "\n",
    "#Abnormal Return 813\n",
    "abret(act_813_NAS,act_813_ne)\n"
   ]
  },
  {
   "cell_type": "code",
   "execution_count": 6,
   "metadata": {},
   "outputs": [
    {
     "name": "stdout",
     "output_type": "stream",
     "text": [
      "            PX_LAST  PX_LAST+1    ln_ret\n",
      "Date                                    \n",
      "2018-08-31   197.71     194.39  0.016935\n",
      "2018-09-04   197.27     197.71 -0.002228\n",
      "2018-09-05   189.75     197.27 -0.038866\n",
      "2018-09-06   191.19     189.75  0.007560\n",
      "             PX_LAST  PX_LAST+1    ln_ret\n",
      "Date                                     \n",
      "2018-08-31  8109.537   8088.360  0.002615\n",
      "2018-09-04  8091.246   8109.537 -0.002258\n",
      "2018-09-05  7995.172   8091.246 -0.011945\n",
      "2018-09-06  7922.726   7995.172 -0.009103\n",
      "              ln_ret        ER        AR   AR Beta       CAR  CAR Beta\n",
      "Date                                                                  \n",
      "2018-08-31  0.016935  0.000409  0.016526  0.887206  0.016526  0.443603\n",
      "2018-09-04 -0.002228 -0.004729  0.002501  0.134253  0.019027  0.510730\n",
      "2018-09-05 -0.038866 -0.014942 -0.023924 -1.284379 -0.004897 -0.131460\n",
      "2018-09-06  0.007560 -0.011945  0.019505  1.047147  0.014608  0.392114\n"
     ]
    }
   ],
   "source": [
    "#Actual return on 831\n",
    "act_831_ne= pd.read_excel('act-win-831-NE.xlsx',index_col=0)\n",
    "ln_return(act_831_ne)\n",
    "print(act_831_ne)\n",
    "\n",
    "#Actual NASDAQ return on 831\n",
    "act_831_NAS= pd.read_excel('act-win-831-NASDAQ.xlsx',index_col=0)\n",
    "ln_return(act_831_NAS)\n",
    "print(act_831_NAS)\n",
    "\n",
    "#Abnormal Return 831\n",
    "abret(act_831_NAS, act_831_ne)\n"
   ]
  },
  {
   "cell_type": "code",
   "execution_count": 7,
   "metadata": {},
   "outputs": [
    {
     "name": "stdout",
     "output_type": "stream",
     "text": [
      "            PX_LAST  PX_LAST+1    ln_ret\n",
      "Date                                    \n",
      "2018-09-07   193.35     191.19  0.011234\n",
      "2018-09-10   188.39     193.35 -0.025988\n",
      "2018-09-11   188.79     188.39  0.002121\n",
      "2018-09-12   191.59     188.79  0.014722\n",
      "             PX_LAST  PX_LAST+1    ln_ret\n",
      "Date                                     \n",
      "2018-09-07  7902.542   7922.726 -0.002551\n",
      "2018-09-10  7924.160   7902.542  0.002732\n",
      "2018-09-11  7972.474   7924.160  0.006079\n",
      "2018-09-12  7954.229   7972.474 -0.002291\n",
      "              ln_ret        ER        AR   AR Beta       CAR  CAR Beta\n",
      "Date                                                                  \n",
      "2018-09-07  0.011234 -0.005037  0.016272  0.873554  0.016272  0.436777\n",
      "2018-09-10 -0.025988  0.000532 -0.026520 -1.423734 -0.010248 -0.275090\n",
      "2018-09-11  0.002121  0.004061 -0.001940 -0.104135 -0.012188 -0.327157\n",
      "2018-09-12  0.014722 -0.004764  0.019486  1.046111  0.007298  0.195898\n"
     ]
    }
   ],
   "source": [
    "#Actual return on 96\n",
    "act_96_ne= pd.read_excel('act-win-96-NE.xlsx',index_col=0)\n",
    "ln_return(act_96_ne)\n",
    "print(act_96_ne)\n",
    "\n",
    "#Actual NASDAQ return on 831\n",
    "act_96_NAS= pd.read_excel('act-win-96-NASDAQ.xlsx',index_col=0)\n",
    "ln_return(act_96_NAS)\n",
    "print(act_96_NAS)\n",
    "\n",
    "#Abnormal Return 831\n",
    "abret(act_96_NAS, act_96_ne)\n"
   ]
  },
  {
   "cell_type": "code",
   "execution_count": 8,
   "metadata": {},
   "outputs": [
    {
     "name": "stdout",
     "output_type": "stream",
     "text": [
      "0   -0.000856\n",
      "1   -0.021436\n",
      "2   -0.015819\n",
      "3    0.011653\n",
      "dtype: float64\n"
     ]
    }
   ],
   "source": [
    "#calculate AAR\n",
    "aar = []\n",
    "for ar in act_813_ne['AR'],act_831_ne['AR'],act_96_ne['AR']:\n",
    "    ar = ar.reset_index()\n",
    "    ar = ar['AR']\n",
    "    aar.append(ar/3)\n",
    "aar = pd.concat(aar, axis=1)\n",
    "aar= aar.sum(axis=1)\n",
    "print (aar)"
   ]
  },
  {
   "cell_type": "code",
   "execution_count": 9,
   "metadata": {
    "scrolled": true
   },
   "outputs": [
    {
     "name": "stdout",
     "output_type": "stream",
     "text": [
      "0   -0.000856\n",
      "1   -0.022292\n",
      "2   -0.038111\n",
      "3   -0.026459\n",
      "dtype: float64\n"
     ]
    }
   ],
   "source": [
    "#calculate CAAR\n",
    "caar = []\n",
    "for car in act_813_ne['CAR'],act_831_ne['CAR'],act_96_ne['CAR']:\n",
    "    car = car.reset_index()\n",
    "    car = car['CAR']\n",
    "    caar.append(car/3)\n",
    "caar = pd.concat(caar, axis=1)\n",
    "caar= caar.sum(axis=1)\n",
    "print (caar)"
   ]
  },
  {
   "cell_type": "code",
   "execution_count": 10,
   "metadata": {},
   "outputs": [
    {
     "name": "stdout",
     "output_type": "stream",
     "text": [
      "0.0062090171969490056\n",
      "0   -0.137874\n",
      "1   -3.452453\n",
      "2   -2.547757\n",
      "3    1.876731\n",
      "dtype: float64\n"
     ]
    }
   ],
   "source": [
    "aar_var= (r_mse*3)/(3**2)\n",
    "taar = aar/aar_var\n",
    "print (aar_var)\n",
    "print (taar)"
   ]
  },
  {
   "cell_type": "code",
   "execution_count": 11,
   "metadata": {},
   "outputs": [
    {
     "name": "stdout",
     "output_type": "stream",
     "text": [
      "0   -0.068937\n",
      "1   -1.795164\n",
      "2   -3.069042\n",
      "3   -2.130676\n",
      "dtype: float64\n"
     ]
    }
   ],
   "source": [
    "caar_var = ((4**.5)*(r_mse*3))/(3**2)\n",
    "tcaar = caar/caar_var\n",
    "print (tcaar)"
   ]
  },
  {
   "cell_type": "code",
   "execution_count": 12,
   "metadata": {
    "scrolled": false
   },
   "outputs": [
    {
     "name": "stdout",
     "output_type": "stream",
     "text": [
      "        AAR  AAR Beta      CAAR  CAAR Beta\n",
      "0 -0.000856 -0.137874 -0.000856  -0.068937\n",
      "1 -0.021436 -3.452453 -0.022292  -1.795164\n",
      "2 -0.015819 -2.547757 -0.038111  -3.069042\n",
      "3  0.011653  1.876731 -0.026459  -2.130676\n"
     ]
    }
   ],
   "source": [
    "avg=pd.concat([aar, taar, caar,tcaar], axis=1)\n",
    "avg.columns= ['AAR','AAR Beta', 'CAAR', 'CAAR Beta']\n",
    "print (avg)"
   ]
  },
  {
   "cell_type": "code",
   "execution_count": null,
   "metadata": {},
   "outputs": [],
   "source": []
  },
  {
   "cell_type": "code",
   "execution_count": 13,
   "metadata": {
    "scrolled": true
   },
   "outputs": [
    {
     "name": "stdout",
     "output_type": "stream",
     "text": [
      "T-stat for 813 is -1.8986349082131024\n",
      "T-stat for 831 is 0.8872062765303533\n",
      "T-stat for 96 is 0.8735544554939007\n"
     ]
    }
   ],
   "source": [
    "#Testing AR\n",
    "\n",
    "#813 test\n",
    "tar_813 = act_813_ne[\"AR\"][0] / r_mse\n",
    "print (\"T-stat for 813 is %s\" %tar_813)\n",
    "\n",
    "#831 test\n",
    "tar_831 = act_831_ne[\"AR\"][0] / r_mse\n",
    "print (\"T-stat for 831 is %s\" %tar_831)\n",
    "\n",
    "#96 test\n",
    "tar_96 = act_96_ne[\"AR\"][0] / r_mse\n",
    "print (\"T-stat for 96 is %s\" %tar_96)"
   ]
  },
  {
   "cell_type": "code",
   "execution_count": 14,
   "metadata": {},
   "outputs": [],
   "source": [
    "car = lambda act, mse: act[\"CAR\"][-1]/ ((len(act)**.5)*mse)"
   ]
  },
  {
   "cell_type": "code",
   "execution_count": 15,
   "metadata": {},
   "outputs": [
    {
     "name": "stdout",
     "output_type": "stream",
     "text": [
      "-2.7186880460518754\n",
      "0.3921135096606121\n",
      "0.1958981086551297\n"
     ]
    }
   ],
   "source": [
    "#Test CAR\n",
    "t813 = car(act_813_ne,r_mse)\n",
    "print(t813)\n",
    "\n",
    "t831=car(act_831_ne,r_mse)\n",
    "print (t831)\n",
    "\n",
    "t96=car(act_96_ne,r_mse)\n",
    "print (t96)"
   ]
  },
  {
   "cell_type": "code",
   "execution_count": 16,
   "metadata": {},
   "outputs": [
    {
     "name": "stdout",
     "output_type": "stream",
     "text": [
      "-0.13787417618884826\n"
     ]
    }
   ],
   "source": [
    "#tTest AAR\n",
    "var= (r_mse*3)/(3**2)\n",
    "taar = aar[0]/ var\n",
    "print (taar)"
   ]
  },
  {
   "cell_type": "code",
   "execution_count": 17,
   "metadata": {},
   "outputs": [
    {
     "name": "stdout",
     "output_type": "stream",
     "text": [
      "0.012418034393898011\n",
      "-2.130676427736133\n"
     ]
    }
   ],
   "source": [
    "#Test CAAR\n",
    "#CAAR variance:\n",
    "caar_var = ((4**.5)*(r_mse*3))/(3**2)\n",
    "tcaar = caar[3]/caar_var\n",
    "print (caar_var)\n",
    "print (tcaar)"
   ]
  },
  {
   "cell_type": "code",
   "execution_count": 54,
   "metadata": {},
   "outputs": [
    {
     "data": {
      "image/png": "[encoded data removed]",
      "text/plain": [
       "<Figure size 432x288 with 1 Axes>"
      ]
     },
     "metadata": {},
     "output_type": "display_data"
    }
   ],
   "source": [
    "#caar curve\n",
    "import matplotlib.pyplot as plt\n",
    "import seaborn as sns\n",
    "sns.set_style(\"darkgrid\")\n",
    "plt.plot(range(4),caar,\"-o\")\n",
    "plt.hlines(0,0,3,linestyles='dotted')\n",
    "plt.xticks(np.arange(0, 4, step=1))\n",
    "plt.title('CAAR graph')\n",
    "plt.xlabel('Days')\n",
    "plt.ylabel('CAAR')\n",
    "plt.savefig('foo.png')\n",
    "plt.show()\n"
   ]
  },
  {
   "cell_type": "code",
   "execution_count": 19,
   "metadata": {},
   "outputs": [],
   "source": [
    "ne_car_3 = [0.01627,-0.01025,-0.01219,0.0073]\n",
    "ne_car_2 = [0.01653,0.01903,-0.0049,0.01461]\n",
    "ne_car_1 = [-0.03537,-0.07566,-0.09725,-0.10128]"
   ]
  },
  {
   "cell_type": "code",
   "execution_count": 21,
   "metadata": {},
   "outputs": [],
   "source": [
    "ba_car_1 = [-0.00233,-0.04146,-0.04214,-0.04552]\n",
    "ba_car_2 = [0.00534,-0.01494,-0.05194,-0.07496]\n",
    "ba_car_3 = [0.01917,-0.02095,-0.01715,0.00285]"
   ]
  },
  {
   "cell_type": "code",
   "execution_count": 81,
   "metadata": {},
   "outputs": [
    {
     "data": {
      "image/png": "[encoded data removed]",
      "text/plain": [
       "<Figure size 432x288 with 1 Axes>"
      ]
     },
     "metadata": {},
     "output_type": "display_data"
    }
   ],
   "source": [
    "plt.plot(range(4),ne_car_1,\"-o\", label=\"NetEase CAR\" )\n",
    "plt.plot(range(4),ba_car_1,\"-o\", label=\"Alibaba CAR\")\n",
    "plt.hlines(0,0,3,linestyles='dotted')\n",
    "plt.title('CAR graph of NetEase and Alibaba on the first event ')\n",
    "plt.xticks(np.arange(0, 4, step=1))\n",
    "plt.legend(bbox_to_anchor=(1.05, 1))\n",
    "plt.legend(loc='upper right')\n",
    "plt.xlabel('Days')\n",
    "plt.ylabel('CAR')\n",
    "plt.savefig('foo.png')\n",
    "plt.show()"
   ]
  },
  {
   "cell_type": "code",
   "execution_count": 83,
   "metadata": {},
   "outputs": [
    {
     "data": {
      "image/png": "[encoded data removed]",
      "text/plain": [
       "<Figure size 432x288 with 1 Axes>"
      ]
     },
     "metadata": {},
     "output_type": "display_data"
    }
   ],
   "source": [
    "plt.plot(range(4),ne_car_2,\"-o\", label=\"NetEase CAR\" )\n",
    "plt.plot(range(4),ba_car_2,\"-o\", label=\"Alibaba CAR\")\n",
    "plt.hlines(0,0,3,linestyles='dotted')\n",
    "plt.title('CAR graph of NetEase and Alibaba on the second event ')\n",
    "plt.xticks(np.arange(0, 4, step=1))\n",
    "plt.xlabel('Days')\n",
    "plt.ylabel('CAR')\n",
    "plt.legend(bbox_to_anchor=(1.05, 1), loc=2, borderaxespad=0.)\n",
    "plt.legend(loc='center right')\n",
    "plt.savefig('foo.png')\n",
    "plt.show()"
   ]
  },
  {
   "cell_type": "code",
   "execution_count": 84,
   "metadata": {},
   "outputs": [
    {
     "data": {
      "image/png": "[encoded data removed]",
      "text/plain": [
       "<Figure size 432x288 with 1 Axes>"
      ]
     },
     "metadata": {},
     "output_type": "display_data"
    }
   ],
   "source": [
    "plt.plot(range(4),ne_car_3,\"-o\", label=\"NetEase CAR\" )\n",
    "plt.plot(range(4),ba_car_3,\"-o\", label=\"Alibaba CAR\")\n",
    "plt.hlines(0,0,3,linestyles='dotted')\n",
    "plt.title('CAR graph of NetEase and Alibaba on the third event ')\n",
    "plt.xticks(np.arange(0, 4, step=1))\n",
    "plt.legend(bbox_to_anchor=(1.05, 1), loc=2, borderaxespad=0.)\n",
    "plt.legend(loc='upper right')\n",
    "plt.savefig('foo.png')\n",
    "plt.show()"
   ]
  }
 ],
 "metadata": {
  "kernelspec": {
   "display_name": "Python 3",
   "language": "python",
   "name": "python3"
  },
  "language_info": {
   "codemirror_mode": {
    "name": "ipython",
    "version": 3
   },
   "file_extension": ".py",
   "mimetype": "text/x-python",
   "name": "python",
   "nbconvert_exporter": "python",
   "pygments_lexer": "ipython3",
   "version": "3.7.1"
  }
 },
 "nbformat": 4,
 "nbformat_minor": 2
}
