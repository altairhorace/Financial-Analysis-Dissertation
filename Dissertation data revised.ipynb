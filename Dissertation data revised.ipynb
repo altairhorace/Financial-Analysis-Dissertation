{
 "cells": [
  {
   "cell_type": "code",
   "execution_count": 1,
   "metadata": {},
   "outputs": [],
   "source": [
    "import pandas as pd \n",
    "import numpy as np\n",
    "from scipy import stats\n",
    "import statsmodels.api as sm\n",
    "import statsmodels.formula.api as smf"
   ]
  },
  {
   "cell_type": "code",
   "execution_count": 2,
   "metadata": {},
   "outputs": [],
   "source": [
    "def ln_return(price):\n",
    "    price['PX_LAST+1']= pd.Series(price.PX_LAST.shift(+1))\n",
    "    price_ln= np.log(price.PX_LAST) - np.log(price[\"PX_LAST+1\"])\n",
    "    price['ln_ret'] = pd.Series(price_ln)\n",
    "    price.drop(price.head(1).index,inplace=True)   \n",
    "    return"
   ]
  },
  {
   "cell_type": "code",
   "execution_count": 3,
   "metadata": {},
   "outputs": [],
   "source": [
    "def ols(stock, market):\n",
    "    global params\n",
    "    global mse\n",
    "    reg=pd.concat([stock[\"ln_ret\"],market[\"ln_ret\"]], axis=1)\n",
    "    reg.columns = ['Tencent', 'HSI']\n",
    "    print(reg)\n",
    "    print (\"Shapiro Test for Tencent Return is\", stats.shapiro(stock[\"ln_ret\"]))\n",
    "    print (\"Shapiro Test for HSI Return is\", stats.shapiro(market[\"ln_ret\"]))\n",
    "    print (\"Anderson-Darling Test for Tencent Return is\", stats.anderson(stock[\"ln_ret\"], dist='norm'))\n",
    "    print (\"Anderson-Darling Test for HSI Return is\", stats.anderson(market[\"ln_ret\"], dist='norm'))\n",
    "    results =smf.ols(\"Tencent ~ HSI\",data=reg).fit()\n",
    "    print (results.summary())\n",
    "    params=results.params\n",
    "    print(results.params)\n",
    "    mse =results.mse_resid\n",
    "    return"
   ]
  },
  {
   "cell_type": "code",
   "execution_count": 4,
   "metadata": {
    "scrolled": true
   },
   "outputs": [
    {
     "name": "stdout",
     "output_type": "stream",
     "text": [
      "            PX_LAST  PX_LAST+1    ln_ret\n",
      "Date                                    \n",
      "13/03/2018  462.759    459.960  0.006067\n",
      "14/03/2018  463.559    462.759  0.001727\n",
      "15/03/2018  468.559    463.559  0.010728\n",
      "16/03/2018  465.159    468.559 -0.007283\n",
      "19/03/2018  461.760    465.159 -0.007334\n",
      "20/03/2018  466.559    461.760  0.010339\n",
      "21/03/2018  462.559    466.559 -0.008610\n",
      "22/03/2018  439.362    462.559 -0.051450\n",
      "23/03/2018  419.963    439.362 -0.045157\n",
      "26/03/2018  426.563    419.963  0.015593\n",
      "27/03/2018  432.162    426.563  0.013040\n",
      "28/03/2018  412.164    432.162 -0.047379\n",
      "29/03/2018  409.564    412.164 -0.006328\n",
      "03/04/2018  409.364    409.564 -0.000488\n",
      "04/04/2018  397.565    409.364 -0.029246\n",
      "06/04/2018  405.764    397.565  0.020413\n",
      "09/04/2018  409.964    405.764  0.010298\n",
      "10/04/2018  417.163    409.964  0.017408\n",
      "11/04/2018  419.563    417.163  0.005737\n",
      "12/04/2018  413.164    419.563 -0.015369\n",
      "13/04/2018  407.964    413.164 -0.012666\n",
      "16/04/2018  402.965    407.964 -0.012329\n",
      "17/04/2018  397.165    402.965 -0.014498\n",
      "18/04/2018  399.965    397.165  0.007025\n",
      "19/04/2018  405.764    399.965  0.014395\n",
      "20/04/2018  400.165    405.764 -0.013895\n",
      "23/04/2018  393.965    400.165 -0.015615\n",
      "24/04/2018  396.565    393.965  0.006578\n",
      "25/04/2018  386.766    396.565 -0.025020\n",
      "26/04/2018  382.167    386.766 -0.011962\n",
      "...             ...        ...       ...\n",
      "30/05/2018  394.965    401.965 -0.017568\n",
      "31/05/2018  399.165    394.965  0.010578\n",
      "01/06/2018  403.965    399.165  0.011953\n",
      "04/06/2018  414.964    403.965  0.026864\n",
      "05/06/2018  419.963    414.964  0.011975\n",
      "06/06/2018  424.963    419.963  0.011835\n",
      "07/06/2018  429.162    424.963  0.009832\n",
      "08/06/2018  414.964    429.162 -0.033643\n",
      "11/06/2018  418.963    414.964  0.009591\n",
      "12/06/2018  417.363    418.963 -0.003826\n",
      "13/06/2018  415.164    417.363 -0.005283\n",
      "14/06/2018  411.964    415.164 -0.007738\n",
      "15/06/2018  409.964    411.964 -0.004867\n",
      "19/06/2018  396.765    409.964 -0.032725\n",
      "20/06/2018  400.165    396.765  0.008533\n",
      "21/06/2018  396.765    400.165 -0.008533\n",
      "22/06/2018  397.365    396.765  0.001511\n",
      "25/06/2018  388.766    397.365 -0.021878\n",
      "26/06/2018  385.966    388.766 -0.007228\n",
      "27/06/2018  377.367    385.966 -0.022531\n",
      "28/06/2018  378.967    377.367  0.004231\n",
      "29/06/2018  393.766    378.967  0.038308\n",
      "03/07/2018  390.766    393.766 -0.007648\n",
      "04/07/2018  382.966    390.766 -0.020163\n",
      "05/07/2018  385.566    382.966  0.006766\n",
      "06/07/2018  386.566    385.566  0.002590\n",
      "09/07/2018  395.965    386.566  0.024023\n",
      "10/07/2018  386.766    395.965 -0.023506\n",
      "11/07/2018  379.367    386.766 -0.019316\n",
      "12/07/2018  379.967    379.367  0.001580\n",
      "\n",
      "[81 rows x 3 columns]\n",
      "             PX_LAST  PX_LAST+1    ln_ret\n",
      "Date                                     \n",
      "13/03/2018  31601.45   31594.33  0.000225\n",
      "14/03/2018  31435.01   31601.45 -0.005281\n",
      "15/03/2018  31541.10   31435.01  0.003369\n",
      "16/03/2018  31501.97   31541.10 -0.001241\n",
      "19/03/2018  31513.76   31501.97  0.000374\n",
      "20/03/2018  31549.93   31513.76  0.001147\n",
      "21/03/2018  31414.52   31549.93 -0.004301\n",
      "22/03/2018  31071.05   31414.52 -0.010994\n",
      "23/03/2018  30309.29   31071.05 -0.024822\n",
      "26/03/2018  30548.77   30309.29  0.007870\n",
      "27/03/2018  30790.83   30548.77  0.007892\n",
      "28/03/2018  30022.53   30790.83 -0.025269\n",
      "29/03/2018  30093.38   30022.53  0.002357\n",
      "03/04/2018  30180.10   30093.38  0.002878\n",
      "04/04/2018  29518.69   30180.10 -0.022159\n",
      "06/04/2018  29844.94   29518.69  0.010992\n",
      "09/04/2018  30229.58   29844.94  0.012806\n",
      "10/04/2018  30728.74   30229.58  0.016377\n",
      "11/04/2018  30897.71   30728.74  0.005484\n",
      "12/04/2018  30831.28   30897.71 -0.002152\n",
      "13/04/2018  30808.38   30831.28 -0.000743\n",
      "16/04/2018  30315.59   30808.38 -0.016125\n",
      "17/04/2018  30062.75   30315.59 -0.008375\n",
      "18/04/2018  30284.25   30062.75  0.007341\n",
      "19/04/2018  30708.44   30284.25  0.013910\n",
      "20/04/2018  30418.33   30708.44 -0.009492\n",
      "23/04/2018  30254.40   30418.33 -0.005404\n",
      "24/04/2018  30636.24   30254.40  0.012542\n",
      "25/04/2018  30328.15   30636.24 -0.010107\n",
      "26/04/2018  30007.68   30328.15 -0.010623\n",
      "...              ...        ...       ...\n",
      "30/05/2018  30056.79   30484.58 -0.014132\n",
      "31/05/2018  30468.56   30056.79  0.013607\n",
      "01/06/2018  30492.91   30468.56  0.000799\n",
      "04/06/2018  30997.98   30492.91  0.016428\n",
      "05/06/2018  31093.45   30997.98  0.003075\n",
      "06/06/2018  31259.10   31093.45  0.005313\n",
      "07/06/2018  31512.63   31259.10  0.008078\n",
      "08/06/2018  30958.21   31512.63 -0.017750\n",
      "11/06/2018  31063.70   30958.21  0.003402\n",
      "12/06/2018  31103.06   31063.70  0.001266\n",
      "13/06/2018  30725.15   31103.06 -0.012225\n",
      "14/06/2018  30440.17   30725.15 -0.009318\n",
      "15/06/2018  30309.49   30440.17 -0.004302\n",
      "19/06/2018  29468.15   30309.49 -0.028151\n",
      "20/06/2018  29696.17   29468.15  0.007708\n",
      "21/06/2018  29296.05   29696.17 -0.013565\n",
      "22/06/2018  29338.70   29296.05  0.001455\n",
      "25/06/2018  28961.39   29338.70 -0.012944\n",
      "26/06/2018  28881.40   28961.39 -0.002766\n",
      "27/06/2018  28356.26   28881.40 -0.018350\n",
      "28/06/2018  28497.32   28356.26  0.004962\n",
      "29/06/2018  28955.11   28497.32  0.015937\n",
      "03/07/2018  28545.57   28955.11 -0.014245\n",
      "04/07/2018  28241.67   28545.57 -0.010703\n",
      "05/07/2018  28182.09   28241.67 -0.002112\n",
      "06/07/2018  28315.62   28182.09  0.004727\n",
      "09/07/2018  28688.50   28315.62  0.013083\n",
      "10/07/2018  28682.25   28688.50 -0.000218\n",
      "11/07/2018  28311.69   28682.25 -0.013004\n",
      "12/07/2018  28480.83   28311.69  0.005956\n",
      "\n",
      "[81 rows x 3 columns]\n",
      "             Tencent       HSI\n",
      "Date                          \n",
      "13/03/2018  0.006067  0.000225\n",
      "14/03/2018  0.001727 -0.005281\n",
      "15/03/2018  0.010728  0.003369\n",
      "16/03/2018 -0.007283 -0.001241\n",
      "19/03/2018 -0.007334  0.000374\n",
      "20/03/2018  0.010339  0.001147\n",
      "21/03/2018 -0.008610 -0.004301\n",
      "22/03/2018 -0.051450 -0.010994\n",
      "23/03/2018 -0.045157 -0.024822\n",
      "26/03/2018  0.015593  0.007870\n",
      "27/03/2018  0.013040  0.007892\n",
      "28/03/2018 -0.047379 -0.025269\n",
      "29/03/2018 -0.006328  0.002357\n",
      "03/04/2018 -0.000488  0.002878\n",
      "04/04/2018 -0.029246 -0.022159\n",
      "06/04/2018  0.020413  0.010992\n",
      "09/04/2018  0.010298  0.012806\n",
      "10/04/2018  0.017408  0.016377\n",
      "11/04/2018  0.005737  0.005484\n",
      "12/04/2018 -0.015369 -0.002152\n",
      "13/04/2018 -0.012666 -0.000743\n",
      "16/04/2018 -0.012329 -0.016125\n",
      "17/04/2018 -0.014498 -0.008375\n",
      "18/04/2018  0.007025  0.007341\n",
      "19/04/2018  0.014395  0.013910\n",
      "20/04/2018 -0.013895 -0.009492\n",
      "23/04/2018 -0.015615 -0.005404\n",
      "24/04/2018  0.006578  0.012542\n",
      "25/04/2018 -0.025020 -0.010107\n",
      "26/04/2018 -0.011962 -0.010623\n",
      "...              ...       ...\n",
      "30/05/2018 -0.017568 -0.014132\n",
      "31/05/2018  0.010578  0.013607\n",
      "01/06/2018  0.011953  0.000799\n",
      "04/06/2018  0.026864  0.016428\n",
      "05/06/2018  0.011975  0.003075\n",
      "06/06/2018  0.011835  0.005313\n",
      "07/06/2018  0.009832  0.008078\n",
      "08/06/2018 -0.033643 -0.017750\n",
      "11/06/2018  0.009591  0.003402\n",
      "12/06/2018 -0.003826  0.001266\n",
      "13/06/2018 -0.005283 -0.012225\n",
      "14/06/2018 -0.007738 -0.009318\n",
      "15/06/2018 -0.004867 -0.004302\n",
      "19/06/2018 -0.032725 -0.028151\n",
      "20/06/2018  0.008533  0.007708\n",
      "21/06/2018 -0.008533 -0.013565\n",
      "22/06/2018  0.001511  0.001455\n",
      "25/06/2018 -0.021878 -0.012944\n",
      "26/06/2018 -0.007228 -0.002766\n",
      "27/06/2018 -0.022531 -0.018350\n",
      "28/06/2018  0.004231  0.004962\n",
      "29/06/2018  0.038308  0.015937\n",
      "03/07/2018 -0.007648 -0.014245\n",
      "04/07/2018 -0.020163 -0.010703\n",
      "05/07/2018  0.006766 -0.002112\n",
      "06/07/2018  0.002590  0.004727\n",
      "09/07/2018  0.024023  0.013083\n",
      "10/07/2018 -0.023506 -0.000218\n",
      "11/07/2018 -0.019316 -0.013004\n",
      "12/07/2018  0.001580  0.005956\n",
      "\n",
      "[81 rows x 2 columns]\n",
      "Shapiro Test for Tencent Return is (0.9801874756813049, 0.24307388067245483)\n",
      "Shapiro Test for HSI Return is (0.9719198942184448, 0.07199128717184067)\n",
      "Anderson-Darling Test for Tencent Return is AndersonResult(statistic=0.5447036931778655, critical_values=array([0.551, 0.627, 0.753, 0.878, 1.044]), significance_level=array([15. , 10. ,  5. ,  2.5,  1. ]))\n",
      "Anderson-Darling Test for HSI Return is AndersonResult(statistic=0.623147505113792, critical_values=array([0.551, 0.627, 0.753, 0.878, 1.044]), significance_level=array([15. , 10. ,  5. ,  2.5,  1. ]))\n",
      "                            OLS Regression Results                            \n",
      "==============================================================================\n",
      "Dep. Variable:                Tencent   R-squared:                       0.642\n",
      "Model:                            OLS   Adj. R-squared:                  0.638\n",
      "Method:                 Least Squares   F-statistic:                     141.8\n",
      "Date:                Thu, 02 May 2019   Prob (F-statistic):           2.57e-19\n",
      "Time:                        21:39:05   Log-Likelihood:                 253.21\n",
      "No. Observations:                  81   AIC:                            -502.4\n",
      "Df Residuals:                      79   BIC:                            -497.6\n",
      "Df Model:                           1                                         \n",
      "Covariance Type:            nonrobust                                         \n",
      "==============================================================================\n",
      "                 coef    std err          t      P>|t|      [0.025      0.975]\n",
      "------------------------------------------------------------------------------\n",
      "Intercept     -0.0007      0.001     -0.564      0.574      -0.003       0.002\n",
      "HSI            1.3114      0.110     11.910      0.000       1.092       1.531\n",
      "==============================================================================\n",
      "Omnibus:                       15.547   Durbin-Watson:                   2.033\n",
      "Prob(Omnibus):                  0.000   Jarque-Bera (JB):               48.040\n",
      "Skew:                           0.421   Prob(JB):                     3.70e-11\n",
      "Kurtosis:                       6.678   Cond. No.                         92.2\n",
      "==============================================================================\n",
      "\n",
      "Warnings:\n",
      "[1] Standard Errors assume that the covariance matrix of the errors is correctly specified.\n",
      "Intercept   -0.000679\n",
      "HSI          1.311369\n",
      "dtype: float64\n",
      "MSE Root=0.010753294203430198\n",
      "Return of Tencent = -0.000679 + 1.311369(Return of HSI)\n"
     ]
    }
   ],
   "source": [
    "#813\n",
    "#Tencent Adjusted Share Price in Estimation Window of 813\n",
    "est_813_tc= pd.read_csv('est-win-813.csv',index_col=0)\n",
    "ln_return(est_813_tc)\n",
    "print(est_813_tc)\n",
    "\n",
    "#HSI \n",
    "est_813_HSI = pd.read_csv('est-win-813-HSI.csv',index_col=0)\n",
    "ln_return(est_813_HSI)\n",
    "print(est_813_HSI)\n",
    "\n",
    "#regression 813\n",
    "ols(est_813_tc,est_813_HSI)\n",
    "const_813, ln_ret_813= round(params,6)\n",
    "r_mse = mse**.5\n",
    "\n",
    "print (\"MSE Root=%s\" %(r_mse))\n",
    "print (\"Return of Tencent = %s + %s(Return of HSI)\" %(const_813,ln_ret_813))"
   ]
  },
  {
   "cell_type": "code",
   "execution_count": 30,
   "metadata": {},
   "outputs": [],
   "source": [
    "def abret(ret,act):\n",
    "    ret = pd.Series(ret[\"ln_ret\"])\n",
    "    er = const_813 + ln_ret_813 * ret\n",
    "    act['ER'] = pd.Series(er)\n",
    "    act[\"AR\"]= act.ln_ret-act.ER\n",
    "    act['AR Beta'] = (act[\"AR\"]/r_mse)\n",
    "    act[\"CAR\"]= act[\"AR\"].cumsum()\n",
    "    act[\"CAR Beta\"]= (act[\"CAR\"]/ ((len(act)**.5)*r_mse))\n",
    "    act = act.drop(act.columns[[0, 1]], axis=1)\n",
    "    print (act)\n",
    "    act.to_excel(\"output.xlsx\")\n",
    "    return"
   ]
  },
  {
   "cell_type": "code",
   "execution_count": 6,
   "metadata": {},
   "outputs": [
    {
     "name": "stdout",
     "output_type": "stream",
     "text": [
      "            PX_LAST  PX_LAST+1    ln_ret\n",
      "Date                                    \n",
      "2018-08-13  360.968    369.970 -0.024633\n",
      "2018-08-14  348.569    360.968 -0.034953\n",
      "2018-08-15  335.971    348.569 -0.036811\n",
      "2018-08-16  325.771    335.971 -0.030830\n",
      "             PX_LAST  PX_LAST+1    ln_ret\n",
      "Date                                     \n",
      "2018-08-13  27936.57   28366.62 -0.015277\n",
      "2018-08-14  27752.93   27936.57 -0.006595\n",
      "2018-08-15  27323.59   27752.93 -0.015591\n",
      "2018-08-16  27100.06   27323.59 -0.008214\n",
      "              ln_ret        ER        AR   AR Beta       CAR  CAR Beta\n",
      "Date                                                                  \n",
      "2018-08-13 -0.024633 -0.020712 -0.003920 -0.364582 -0.003920 -0.182291\n",
      "2018-08-14 -0.034953 -0.009328 -0.025625 -2.383030 -0.029546 -1.373806\n",
      "2018-08-15 -0.036811 -0.021125 -0.015687 -1.458792 -0.045233 -2.103202\n",
      "2018-08-16 -0.030830 -0.011451 -0.019379 -1.802140 -0.064612 -3.004271\n"
     ]
    }
   ],
   "source": [
    "#Actual return on 813\n",
    "act_813_tc= pd.read_excel('act-win-813.xlsx',index_col=0)\n",
    "ln_return(act_813_tc)\n",
    "print(act_813_tc)\n",
    "\n",
    "#Actual HSI return on 813\n",
    "act_813_HSI= pd.read_excel('act-win-813-HSI.xlsx',index_col=0)\n",
    "ln_return(act_813_HSI)\n",
    "print(act_813_HSI)\n",
    "\n",
    "\n",
    "#Abnormal Return 831\n",
    "abret(act_813_HSI,act_813_tc)"
   ]
  },
  {
   "cell_type": "code",
   "execution_count": 7,
   "metadata": {
    "scrolled": false
   },
   "outputs": [
    {
     "name": "stdout",
     "output_type": "stream",
     "text": [
      "            PX_LAST  PX_LAST+1    ln_ret\n",
      "Date                                    \n",
      "2018-08-31  339.970    357.370 -0.049914\n",
      "2018-09-03  332.771    339.970 -0.021403\n",
      "2018-09-04  338.570    332.771  0.017276\n",
      "2018-09-05  324.772    338.570 -0.041607\n",
      "             PX_LAST  PX_LAST+1    ln_ret\n",
      "Date                                     \n",
      "2018-08-31  27888.55   28164.05 -0.009830\n",
      "2018-09-03  27712.54   27888.55 -0.006331\n",
      "2018-09-04  27973.34   27712.54  0.009367\n",
      "2018-09-05  27243.85   27973.34 -0.026424\n",
      "              ln_ret        ER        AR   AR Beta       CAR  CAR Beta\n",
      "Date                                                                  \n",
      "2018-08-31 -0.049914 -0.013570 -0.036344 -3.379834 -0.036344 -1.689917\n",
      "2018-09-03 -0.021403 -0.008982 -0.012421 -1.155114 -0.048766 -2.267474\n",
      "2018-09-04  0.017276  0.011604  0.005672  0.527452 -0.043094 -2.003748\n",
      "2018-09-05 -0.041607 -0.035331 -0.006277 -0.583702 -0.049371 -2.295599\n"
     ]
    }
   ],
   "source": [
    "#Actual return on 831\n",
    "act_831_tc= pd.read_excel('act-win-831.xlsx',index_col=0)\n",
    "ln_return(act_831_tc)\n",
    "print(act_831_tc)\n",
    "\n",
    "#Actual HSI return on 831\n",
    "act_831_HSI= pd.read_excel('act-win-831-HSI.xlsx',index_col=0)\n",
    "ln_return(act_831_HSI)\n",
    "print(act_831_HSI)\n",
    "\n",
    "\n",
    "#Abnormal Return 831\n",
    "abret(act_831_HSI,act_831_tc)"
   ]
  },
  {
   "cell_type": "code",
   "execution_count": 8,
   "metadata": {},
   "outputs": [
    {
     "name": "stdout",
     "output_type": "stream",
     "text": [
      "            PX_LAST  PX_LAST+1    ln_ret\n",
      "Date                                    \n",
      "2018-09-07  316.772    314.572  0.006969\n",
      "2018-09-10  313.573    316.772 -0.010150\n",
      "2018-09-11  307.973    313.573 -0.018020\n",
      "2018-09-12  308.373    307.973  0.001298\n",
      "             PX_LAST  PX_LAST+1    ln_ret\n",
      "Date                                     \n",
      "2018-09-07  26973.47   26974.82 -0.000050\n",
      "2018-09-10  26613.42   26973.47 -0.013438\n",
      "2018-09-11  26422.55   26613.42 -0.007198\n",
      "2018-09-12  26345.04   26422.55 -0.002938\n",
      "              ln_ret        ER        AR   AR Beta       CAR  CAR Beta\n",
      "Date                                                                  \n",
      "2018-09-07  0.006969 -0.000745  0.007714  0.717354  0.007714  0.358677\n",
      "2018-09-10 -0.010150 -0.018301  0.008151  0.758032  0.015865  0.737693\n",
      "2018-09-11 -0.018020 -0.010118 -0.007902 -0.734855  0.007963  0.370265\n",
      "2018-09-12  0.001298 -0.004532  0.005829  0.542113  0.013793  0.641322\n"
     ]
    }
   ],
   "source": [
    "#Actual return on 96\n",
    "act_96_tc= pd.read_excel('act-win-96.xlsx',index_col=0)\n",
    "ln_return(act_96_tc)\n",
    "print(act_96_tc)\n",
    "\n",
    "#Actual HSI return on 96\n",
    "act_96_HSI= pd.read_excel('act-win-96-HSI.xlsx',index_col=0)\n",
    "ln_return(act_96_HSI)\n",
    "print(act_96_HSI)\n",
    "\n",
    "#Abnormal Return 96\n",
    "abret(act_96_HSI,act_96_tc)"
   ]
  },
  {
   "cell_type": "code",
   "execution_count": 9,
   "metadata": {
    "scrolled": true
   },
   "outputs": [
    {
     "name": "stdout",
     "output_type": "stream",
     "text": [
      "0   -0.010850\n",
      "1   -0.009965\n",
      "2   -0.005972\n",
      "3   -0.006609\n",
      "dtype: float64\n"
     ]
    }
   ],
   "source": [
    "#calculate AAR\n",
    "aar = []\n",
    "for ar in act_813_tc['AR'],act_831_tc['AR'],act_96_tc['AR']:\n",
    "    ar = ar.reset_index()\n",
    "    ar = ar['AR']\n",
    "    aar.append(ar/3)\n",
    "aar = pd.concat(aar, axis=1)\n",
    "aar= aar.sum(axis=1)\n",
    "print (aar)"
   ]
  },
  {
   "cell_type": "code",
   "execution_count": 10,
   "metadata": {
    "scrolled": true
   },
   "outputs": [
    {
     "name": "stdout",
     "output_type": "stream",
     "text": [
      "0   -0.010850\n",
      "1   -0.020815\n",
      "2   -0.026788\n",
      "3   -0.033396\n",
      "dtype: float64\n"
     ]
    }
   ],
   "source": [
    "#calculate CAAR\n",
    "caar = []\n",
    "for car in act_813_tc['CAR'],act_831_tc['CAR'],act_96_tc['CAR']:\n",
    "    car = car.reset_index()\n",
    "    car = car['CAR']\n",
    "    caar.append(car/3)\n",
    "caar = pd.concat(caar, axis=1)\n",
    "caar= caar.sum(axis=1)\n",
    "print (caar)"
   ]
  },
  {
   "cell_type": "code",
   "execution_count": 28,
   "metadata": {},
   "outputs": [
    {
     "name": "stdout",
     "output_type": "stream",
     "text": [
      "0.003584431401143399\n",
      "0   -3.027062\n",
      "1   -2.780112\n",
      "2   -1.666195\n",
      "3   -1.843728\n",
      "dtype: float64\n"
     ]
    }
   ],
   "source": [
    "aar_var= (r_mse*3)/(3**2)\n",
    "taar = aar/aar_var\n",
    "print (aar_var)\n",
    "print (taar)"
   ]
  },
  {
   "cell_type": "code",
   "execution_count": 12,
   "metadata": {},
   "outputs": [
    {
     "name": "stdout",
     "output_type": "stream",
     "text": [
      "0   -1.513531\n",
      "1   -2.903587\n",
      "2   -3.736685\n",
      "3   -4.658549\n",
      "dtype: float64\n"
     ]
    }
   ],
   "source": [
    "caar_var = ((4**.5)*(r_mse*3))/(3**2)\n",
    "tcaar = caar/caar_var\n",
    "print (tcaar)"
   ]
  },
  {
   "cell_type": "code",
   "execution_count": 13,
   "metadata": {
    "scrolled": false
   },
   "outputs": [
    {
     "name": "stdout",
     "output_type": "stream",
     "text": [
      "        AAR  AAR Beta      CAAR  CAAR Beta\n",
      "0 -0.010850 -3.027062 -0.010850  -1.513531\n",
      "1 -0.009965 -2.780112 -0.020815  -2.903587\n",
      "2 -0.005972 -1.666195 -0.026788  -3.736685\n",
      "3 -0.006609 -1.843728 -0.033396  -4.658549\n"
     ]
    }
   ],
   "source": [
    "avg=pd.concat([aar, taar, caar,tcaar], axis=1)\n",
    "avg.columns= ['AAR','AAR Beta', 'CAAR', 'CAAR Beta']\n",
    "avg.to_excel(\"output.xlsx\") \n",
    "print (avg)"
   ]
  },
  {
   "cell_type": "code",
   "execution_count": null,
   "metadata": {},
   "outputs": [],
   "source": []
  },
  {
   "cell_type": "code",
   "execution_count": 14,
   "metadata": {
    "scrolled": true
   },
   "outputs": [
    {
     "name": "stdout",
     "output_type": "stream",
     "text": [
      "T-stat for 813 is -0.36458192132558204\n",
      "T-stat for 831 is -3.3798341814274506\n",
      "T-stat for 96 is 0.7173540118817471\n"
     ]
    }
   ],
   "source": [
    "#Testing AR\n",
    "\n",
    "#813 test\n",
    "tar_813 = act_813_tc[\"AR\"][0] / r_mse\n",
    "print (\"T-stat for 813 is %s\" %tar_813)\n",
    "\n",
    "#831 test\n",
    "tar_831 = act_831_tc[\"AR\"][0] / r_mse\n",
    "print (\"T-stat for 831 is %s\" %tar_831)\n",
    "\n",
    "#96 test\n",
    "tar_96 = act_96_tc[\"AR\"][0] / r_mse\n",
    "print (\"T-stat for 96 is %s\" %tar_96)"
   ]
  },
  {
   "cell_type": "code",
   "execution_count": 15,
   "metadata": {},
   "outputs": [
    {
     "name": "stdout",
     "output_type": "stream",
     "text": [
      "T-stat for 813 is -2.3830295093350595\n"
     ]
    }
   ],
   "source": [
    "tar_813i = act_813_tc[\"AR\"][1] / r_mse\n",
    "print (\"T-stat for 813 is %s\" %tar_813i)"
   ]
  },
  {
   "cell_type": "code",
   "execution_count": 16,
   "metadata": {},
   "outputs": [],
   "source": [
    "car = lambda act: act[\"CAR\"][-1]/ ((len(act)**.5)*r_mse)"
   ]
  },
  {
   "cell_type": "code",
   "execution_count": 17,
   "metadata": {},
   "outputs": [
    {
     "name": "stdout",
     "output_type": "stream",
     "text": [
      "-3.004271436681762\n",
      "-2.2955991337719643\n",
      "0.641321838753723\n"
     ]
    }
   ],
   "source": [
    "#Test CAR\n",
    "t813 = car(act_813_tc)\n",
    "print(t813)\n",
    "\n",
    "t831=car(act_831_tc)\n",
    "print (t831)\n",
    "\n",
    "t96=car(act_96_tc)\n",
    "print (t96)"
   ]
  },
  {
   "cell_type": "code",
   "execution_count": 18,
   "metadata": {},
   "outputs": [
    {
     "name": "stdout",
     "output_type": "stream",
     "text": [
      "-3.0270620908712855\n"
     ]
    }
   ],
   "source": [
    "#tTest AAR\n",
    "var= (r_mse*3)/(3**2)\n",
    "taar = aar[0]/ var\n",
    "print (taar)"
   ]
  },
  {
   "cell_type": "code",
   "execution_count": 19,
   "metadata": {},
   "outputs": [
    {
     "name": "stdout",
     "output_type": "stream",
     "text": [
      "0.007168862802286798\n",
      "-4.658548731700004\n"
     ]
    }
   ],
   "source": [
    "#Test CAAR\n",
    "#CAAR variance:\n",
    "caar_var = ((4**.5)*(r_mse*3))/(3**2)\n",
    "tcaar = caar[3]/caar_var\n",
    "print (caar_var)\n",
    "print (tcaar)"
   ]
  },
  {
   "cell_type": "code",
   "execution_count": null,
   "metadata": {},
   "outputs": [],
   "source": []
  },
  {
   "cell_type": "code",
   "execution_count": 20,
   "metadata": {
    "scrolled": false
   },
   "outputs": [
    {
     "data": {
      "image/png": "[encoded data removed]",
      "text/plain": [
       "<Figure size 432x288 with 1 Axes>"
      ]
     },
     "metadata": {},
     "output_type": "display_data"
    }
   ],
   "source": [
    "#caar curve\n",
    "import matplotlib.pyplot as plt\n",
    "import seaborn as sns\n",
    "sns.set_style(\"darkgrid\")\n",
    "plt.plot(range(4),caar,\"-o\")\n",
    "plt.hlines(0,0,3,linestyles='dotted')\n",
    "plt.xticks(np.arange(0, 4, step=1))\n",
    "plt.savefig('foo.png')\n",
    "plt.show()\n"
   ]
  },
  {
   "cell_type": "code",
   "execution_count": 31,
   "metadata": {},
   "outputs": [
    {
     "name": "stdout",
     "output_type": "stream",
     "text": [
      "            PX_LAST  PX_LAST+1    ln_ret\n",
      "Date                                    \n",
      "2018-08-09   372.57     363.97  0.023353\n",
      "2018-08-10   369.97     372.57 -0.007003\n",
      "             PX_LAST  PX_LAST+1    ln_ret\n",
      "Date                                     \n",
      "2018-08-09  28607.30   28359.14  0.008713\n",
      "2018-08-10  28366.62   28607.30 -0.008449\n",
      "              ln_ret        ER        AR   AR Beta       CAR  CAR Beta\n",
      "Date                                                                  \n",
      "2018-08-09  0.023353  0.010746  0.012607  1.172396  0.012607  0.829009\n",
      "2018-08-10 -0.007003 -0.011759  0.004756  0.442238  0.017363  1.141719\n"
     ]
    }
   ],
   "source": [
    "#insider 813\n",
    "ins_813_tc= pd.read_excel('ins-win-813.xlsx',index_col=0)\n",
    "ln_return(ins_813_tc)\n",
    "print(ins_813_tc)\n",
    "\n",
    "#Insider HSI return on 813\n",
    "ins_813_HSI= pd.read_excel('ins-win-813-HSI.xlsx',index_col=0)\n",
    "ln_return(ins_813_HSI)\n",
    "print(ins_813_HSI)\n",
    "\n",
    "#Insider Return 813\n",
    "abret(ins_813_HSI,ins_813_tc)"
   ]
  },
  {
   "cell_type": "code",
   "execution_count": 33,
   "metadata": {},
   "outputs": [
    {
     "name": "stdout",
     "output_type": "stream",
     "text": [
      "            PX_LAST  PX_LAST+1    ln_ret\n",
      "Date                                    \n",
      "2018-08-29   360.77     365.37 -0.012670\n",
      "2018-08-30   357.37     360.77 -0.009469\n",
      "             PX_LAST  PX_LAST+1    ln_ret\n",
      "Date                                     \n",
      "2018-08-29  28416.44   28351.62  0.002284\n",
      "2018-08-30  28164.05   28416.44 -0.008922\n",
      "              ln_ret        ER        AR   AR Beta       CAR  CAR Beta\n",
      "Date                                                                  \n",
      "2018-08-29 -0.012670  0.002316 -0.014986 -1.393587 -0.014986 -0.985415\n",
      "2018-08-30 -0.009469 -0.012378  0.002909  0.270560 -0.012076 -0.794100\n"
     ]
    }
   ],
   "source": [
    "#Insider return on 831\n",
    "ins_831_tc= pd.read_excel('ins-win-831.xlsx',index_col=0)\n",
    "ln_return(ins_831_tc)\n",
    "print(ins_831_tc)\n",
    "\n",
    "#Insider HSI return on 831\n",
    "ins_831_HSI= pd.read_excel('ins-win-831-HSI.xlsx',index_col=0)\n",
    "ln_return(ins_831_HSI)\n",
    "print(ins_831_HSI)\n",
    "\n",
    "\n",
    "#Insider Return 831\n",
    "abret(ins_831_HSI,ins_831_tc)"
   ]
  },
  {
   "cell_type": "code",
   "execution_count": 35,
   "metadata": {},
   "outputs": [
    {
     "name": "stdout",
     "output_type": "stream",
     "text": [
      "            PX_LAST  PX_LAST+1    ln_ret\n",
      "Date                                    \n",
      "2018-09-05  324.770     338.57 -0.041614\n",
      "2018-09-06  314.572     324.77 -0.031904\n",
      "             PX_LAST  PX_LAST+1    ln_ret\n",
      "Date                                     \n",
      "2018-09-05  27243.85   27973.34 -0.026424\n",
      "2018-09-06  26974.82   27243.85 -0.009924\n",
      "              ln_ret        ER        AR   AR Beta       CAR  CAR Beta\n",
      "Date                                                                  \n",
      "2018-09-05 -0.041614 -0.035331 -0.006283 -0.584274 -0.006283 -0.413144\n",
      "2018-09-06 -0.031904 -0.013693 -0.018211 -1.693553 -0.024494 -1.610667\n"
     ]
    }
   ],
   "source": [
    "#Insider return on 96\n",
    "ins_96_tc= pd.read_excel('ins-win-96.xlsx',index_col=0)\n",
    "ln_return(ins_96_tc)\n",
    "print(ins_96_tc)\n",
    "\n",
    "#Insider HSI return on 96\n",
    "ins_96_HSI= pd.read_excel('ins-win-96-HSI.xlsx',index_col=0)\n",
    "ln_return(ins_96_HSI)\n",
    "print(ins_96_HSI)\n",
    "\n",
    "#Insider Return 96\n",
    "abret(ins_96_HSI,ins_96_tc)"
   ]
  },
  {
   "cell_type": "code",
   "execution_count": 24,
   "metadata": {},
   "outputs": [
    {
     "name": "stdout",
     "output_type": "stream",
     "text": [
      "T-stat for 813 is 1.1723961554304756\n",
      "T-stat for 831 is -1.3935868253044235\n",
      "T-stat for 96 is -0.5842742096622761\n"
     ]
    }
   ],
   "source": [
    "#Testing Insider AR Day -2\n",
    "\n",
    "#813 test\n",
    "tar_813 = ins_813_tc[\"AR\"][0] / r_mse\n",
    "print (\"T-stat for 813 is %s\" %tar_813)\n",
    "\n",
    "#831 test\n",
    "tar_831 = ins_831_tc[\"AR\"][0] / r_mse\n",
    "print (\"T-stat for 831 is %s\" %tar_831)\n",
    "\n",
    "#96 test\n",
    "tar_96 = ins_96_tc[\"AR\"][0] / r_mse\n",
    "print (\"T-stat for 96 is %s\" %tar_96)"
   ]
  },
  {
   "cell_type": "code",
   "execution_count": 25,
   "metadata": {},
   "outputs": [
    {
     "name": "stdout",
     "output_type": "stream",
     "text": [
      "T-stat for 813 is 0.4422377899031098\n",
      "T-stat for 831 is 0.2705602287907721\n",
      "T-stat for 96 is -1.6935525717143745\n"
     ]
    }
   ],
   "source": [
    "#Testing Insider AR Day -1\n",
    "\n",
    "#813 test\n",
    "tar_813 = ins_813_tc[\"AR\"][1] / r_mse\n",
    "print (\"T-stat for 813 is %s\" %tar_813)\n",
    "\n",
    "#831 test\n",
    "tar_831 = ins_831_tc[\"AR\"][1] / r_mse\n",
    "print (\"T-stat for 831 is %s\" %tar_831)\n",
    "\n",
    "#96 test\n",
    "tar_96 = ins_96_tc[\"AR\"][1] / r_mse\n",
    "print (\"T-stat for 96 is %s\" %tar_96)"
   ]
  },
  {
   "cell_type": "code",
   "execution_count": 26,
   "metadata": {},
   "outputs": [
    {
     "name": "stdout",
     "output_type": "stream",
     "text": [
      "1.1417186118793674\n",
      "-0.7940997218476517\n",
      "-1.610666763479757\n"
     ]
    }
   ],
   "source": [
    "#Test CAR insider trading\n",
    "t813 = car(ins_813_tc)\n",
    "print(t813)\n",
    "\n",
    "t831=car(ins_831_tc)\n",
    "print (t831)\n",
    "\n",
    "t96=car(ins_96_tc)\n",
    "print (t96)"
   ]
  },
  {
   "cell_type": "code",
   "execution_count": null,
   "metadata": {},
   "outputs": [],
   "source": []
  },
  {
   "cell_type": "code",
   "execution_count": 27,
   "metadata": {},
   "outputs": [
    {
     "ename": "NameError",
     "evalue": "name 'car_h_813' is not defined",
     "output_type": "error",
     "traceback": [
      "\u001b[1;31m---------------------------------------------------------------------------\u001b[0m",
      "\u001b[1;31mNameError\u001b[0m                                 Traceback (most recent call last)",
      "\u001b[1;32m<ipython-input-27-0c0eb1183e81>\u001b[0m in \u001b[0;36m<module>\u001b[1;34m\u001b[0m\n\u001b[0;32m      1\u001b[0m \u001b[1;31m#not useful\u001b[0m\u001b[1;33m\u001b[0m\u001b[1;33m\u001b[0m\u001b[1;33m\u001b[0m\u001b[0m\n\u001b[0;32m      2\u001b[0m \u001b[0mvar\u001b[0m \u001b[1;33m=\u001b[0m \u001b[1;36m0\u001b[0m\u001b[1;33m\u001b[0m\u001b[1;33m\u001b[0m\u001b[0m\n\u001b[1;32m----> 3\u001b[1;33m \u001b[1;32mfor\u001b[0m \u001b[0mcaar_h\u001b[0m \u001b[1;32min\u001b[0m \u001b[0mcar_h_813\u001b[0m\u001b[1;33m,\u001b[0m \u001b[0mcar_h_831\u001b[0m\u001b[1;33m,\u001b[0m \u001b[0mcar_h_96\u001b[0m\u001b[1;33m:\u001b[0m\u001b[1;33m\u001b[0m\u001b[1;33m\u001b[0m\u001b[0m\n\u001b[0m\u001b[0;32m      4\u001b[0m     \u001b[0munmod_var\u001b[0m \u001b[1;33m=\u001b[0m \u001b[1;33m(\u001b[0m\u001b[0mcaar_h\u001b[0m \u001b[1;33m-\u001b[0m \u001b[0mcaar_var\u001b[0m\u001b[1;33m)\u001b[0m\u001b[1;33m**\u001b[0m\u001b[1;36m2\u001b[0m\u001b[1;33m\u001b[0m\u001b[1;33m\u001b[0m\u001b[0m\n\u001b[0;32m      5\u001b[0m     \u001b[0mvar\u001b[0m \u001b[1;33m+=\u001b[0m \u001b[0munmod_var\u001b[0m\u001b[1;33m\u001b[0m\u001b[1;33m\u001b[0m\u001b[0m\n",
      "\u001b[1;31mNameError\u001b[0m: name 'car_h_813' is not defined"
     ]
    }
   ],
   "source": [
    "#not useful\n",
    "var = 0\n",
    "for caar_h in car_h_813, car_h_831, car_h_96:\n",
    "    unmod_var = (caar_h - caar_var)**2\n",
    "    var += unmod_var\n",
    "    caar_beta_var = var/3**2\n",
    "print (caar_beta_var)"
   ]
  }
 ],
 "metadata": {
  "kernelspec": {
   "display_name": "Python 3",
   "language": "python",
   "name": "python3"
  },
  "language_info": {
   "codemirror_mode": {
    "name": "ipython",
    "version": 3
   },
   "file_extension": ".py",
   "mimetype": "text/x-python",
   "name": "python",
   "nbconvert_exporter": "python",
   "pygments_lexer": "ipython3",
   "version": "3.7.1"
  }
 },
 "nbformat": 4,
 "nbformat_minor": 2
}
